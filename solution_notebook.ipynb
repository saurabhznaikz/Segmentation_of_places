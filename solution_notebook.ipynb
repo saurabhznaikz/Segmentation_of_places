{
 "cells": [
  {
   "cell_type": "markdown",
   "metadata": {},
   "source": [
    "## Loading the DataSet and finding some basic information"
   ]
  },
  {
   "cell_type": "code",
   "execution_count": 33,
   "metadata": {},
   "outputs": [],
   "source": [
    "import pandas as pd\n",
    "import numpy as np\n",
    "from geopy.geocoders import Nominatim\n",
    "import geopy\n",
    "from sklearn.feature_selection import VarianceThreshold\n",
    "from sklearn.cluster import DBSCAN\n",
    "import matplotlib.pyplot as plt\n",
    "import seaborn as sns\n",
    "from shapely.geometry import Polygon, Point\n",
    "import shapely.wkt\n",
    "import h3"
   ]
  },
  {
   "cell_type": "code",
   "execution_count": 2,
   "metadata": {},
   "outputs": [
    {
     "data": {
      "text/html": [
       "<div>\n",
       "<style scoped>\n",
       "    .dataframe tbody tr th:only-of-type {\n",
       "        vertical-align: middle;\n",
       "    }\n",
       "\n",
       "    .dataframe tbody tr th {\n",
       "        vertical-align: top;\n",
       "    }\n",
       "\n",
       "    .dataframe thead th {\n",
       "        text-align: right;\n",
       "    }\n",
       "</style>\n",
       "<table border=\"1\" class=\"dataframe\">\n",
       "  <thead>\n",
       "    <tr style=\"text-align: right;\">\n",
       "      <th></th>\n",
       "      <th>source</th>\n",
       "      <th>poi_code</th>\n",
       "      <th>name</th>\n",
       "      <th>poi_type</th>\n",
       "      <th>lat</th>\n",
       "      <th>long</th>\n",
       "      <th>address</th>\n",
       "      <th>city</th>\n",
       "      <th>state</th>\n",
       "      <th>country</th>\n",
       "      <th>pin_code</th>\n",
       "      <th>brand</th>\n",
       "    </tr>\n",
       "  </thead>\n",
       "  <tbody>\n",
       "    <tr>\n",
       "      <th>0</th>\n",
       "      <td>OSM</td>\n",
       "      <td>POI_1003_6612393918</td>\n",
       "      <td>Parle</td>\n",
       "      <td>shop.food.bakery</td>\n",
       "      <td>13.049754</td>\n",
       "      <td>77.492895</td>\n",
       "      <td>NaN</td>\n",
       "      <td>Bangalore</td>\n",
       "      <td>Karnataka</td>\n",
       "      <td>India</td>\n",
       "      <td>NaN</td>\n",
       "      <td>NaN</td>\n",
       "    </tr>\n",
       "    <tr>\n",
       "      <th>1</th>\n",
       "      <td>OSM</td>\n",
       "      <td>POI_1003_6613030600</td>\n",
       "      <td>The Black Pearl</td>\n",
       "      <td>food.restaurant</td>\n",
       "      <td>12.939213</td>\n",
       "      <td>77.694701</td>\n",
       "      <td>NaN</td>\n",
       "      <td>Bangalore</td>\n",
       "      <td>Karnataka</td>\n",
       "      <td>India</td>\n",
       "      <td>NaN</td>\n",
       "      <td>NaN</td>\n",
       "    </tr>\n",
       "    <tr>\n",
       "      <th>2</th>\n",
       "      <td>OSM</td>\n",
       "      <td>POI_1003_4668296373</td>\n",
       "      <td>Temple</td>\n",
       "      <td>NaN</td>\n",
       "      <td>12.940448</td>\n",
       "      <td>77.693816</td>\n",
       "      <td>NaN</td>\n",
       "      <td>Bangalore</td>\n",
       "      <td>Karnataka</td>\n",
       "      <td>India</td>\n",
       "      <td>NaN</td>\n",
       "      <td>NaN</td>\n",
       "    </tr>\n",
       "    <tr>\n",
       "      <th>3</th>\n",
       "      <td>OSM</td>\n",
       "      <td>POI_1003_3771995983</td>\n",
       "      <td>Kadubeesanahalli Underpass</td>\n",
       "      <td>NaN</td>\n",
       "      <td>12.939450</td>\n",
       "      <td>77.695305</td>\n",
       "      <td>NaN</td>\n",
       "      <td>Bangalore</td>\n",
       "      <td>Karnataka</td>\n",
       "      <td>India</td>\n",
       "      <td>NaN</td>\n",
       "      <td>NaN</td>\n",
       "    </tr>\n",
       "    <tr>\n",
       "      <th>4</th>\n",
       "      <td>OSM</td>\n",
       "      <td>POI_1003_2413350412</td>\n",
       "      <td>NaN</td>\n",
       "      <td>health.wellbeing.swimming_pool</td>\n",
       "      <td>12.940660</td>\n",
       "      <td>77.693607</td>\n",
       "      <td>NaN</td>\n",
       "      <td>Bangalore</td>\n",
       "      <td>Karnataka</td>\n",
       "      <td>India</td>\n",
       "      <td>NaN</td>\n",
       "      <td>NaN</td>\n",
       "    </tr>\n",
       "    <tr>\n",
       "      <th>...</th>\n",
       "      <td>...</td>\n",
       "      <td>...</td>\n",
       "      <td>...</td>\n",
       "      <td>...</td>\n",
       "      <td>...</td>\n",
       "      <td>...</td>\n",
       "      <td>...</td>\n",
       "      <td>...</td>\n",
       "      <td>...</td>\n",
       "      <td>...</td>\n",
       "      <td>...</td>\n",
       "      <td>...</td>\n",
       "    </tr>\n",
       "    <tr>\n",
       "      <th>42925</th>\n",
       "      <td>OSM</td>\n",
       "      <td>POI_1003_3740962178</td>\n",
       "      <td>NaN</td>\n",
       "      <td>NaN</td>\n",
       "      <td>12.976237</td>\n",
       "      <td>77.611640</td>\n",
       "      <td>NaN</td>\n",
       "      <td>Bangalore</td>\n",
       "      <td>Karnataka</td>\n",
       "      <td>India</td>\n",
       "      <td>NaN</td>\n",
       "      <td>NaN</td>\n",
       "    </tr>\n",
       "    <tr>\n",
       "      <th>42926</th>\n",
       "      <td>OSM</td>\n",
       "      <td>POI_1003_3740962179</td>\n",
       "      <td>NaN</td>\n",
       "      <td>NaN</td>\n",
       "      <td>12.976275</td>\n",
       "      <td>77.611514</td>\n",
       "      <td>NaN</td>\n",
       "      <td>Bangalore</td>\n",
       "      <td>Karnataka</td>\n",
       "      <td>India</td>\n",
       "      <td>NaN</td>\n",
       "      <td>NaN</td>\n",
       "    </tr>\n",
       "    <tr>\n",
       "      <th>42927</th>\n",
       "      <td>OSM</td>\n",
       "      <td>POI_1003_3740962181</td>\n",
       "      <td>NaN</td>\n",
       "      <td>NaN</td>\n",
       "      <td>12.976317</td>\n",
       "      <td>77.611396</td>\n",
       "      <td>NaN</td>\n",
       "      <td>Bangalore</td>\n",
       "      <td>Karnataka</td>\n",
       "      <td>India</td>\n",
       "      <td>NaN</td>\n",
       "      <td>NaN</td>\n",
       "    </tr>\n",
       "    <tr>\n",
       "      <th>42928</th>\n",
       "      <td>OSM</td>\n",
       "      <td>POI_1003_3742106925</td>\n",
       "      <td>Soudhamani Estate NSB</td>\n",
       "      <td>NaN</td>\n",
       "      <td>12.821388</td>\n",
       "      <td>77.511637</td>\n",
       "      <td>NaN</td>\n",
       "      <td>Bangalore</td>\n",
       "      <td>Karnataka</td>\n",
       "      <td>India</td>\n",
       "      <td>560082</td>\n",
       "      <td>NaN</td>\n",
       "    </tr>\n",
       "    <tr>\n",
       "      <th>42929</th>\n",
       "      <td>OSM</td>\n",
       "      <td>POI_1003_3742207976</td>\n",
       "      <td>NaN</td>\n",
       "      <td>NaN</td>\n",
       "      <td>13.068317</td>\n",
       "      <td>77.615481</td>\n",
       "      <td>NaN</td>\n",
       "      <td>Bangalore</td>\n",
       "      <td>Karnataka</td>\n",
       "      <td>India</td>\n",
       "      <td>560064</td>\n",
       "      <td>NaN</td>\n",
       "    </tr>\n",
       "  </tbody>\n",
       "</table>\n",
       "<p>42930 rows × 12 columns</p>\n",
       "</div>"
      ],
      "text/plain": [
       "      source             poi_code                        name  \\\n",
       "0        OSM  POI_1003_6612393918                       Parle   \n",
       "1        OSM  POI_1003_6613030600             The Black Pearl   \n",
       "2        OSM  POI_1003_4668296373                      Temple   \n",
       "3        OSM  POI_1003_3771995983  Kadubeesanahalli Underpass   \n",
       "4        OSM  POI_1003_2413350412                         NaN   \n",
       "...      ...                  ...                         ...   \n",
       "42925    OSM  POI_1003_3740962178                         NaN   \n",
       "42926    OSM  POI_1003_3740962179                         NaN   \n",
       "42927    OSM  POI_1003_3740962181                         NaN   \n",
       "42928    OSM  POI_1003_3742106925       Soudhamani Estate NSB   \n",
       "42929    OSM  POI_1003_3742207976                         NaN   \n",
       "\n",
       "                             poi_type        lat       long address  \\\n",
       "0                    shop.food.bakery  13.049754  77.492895     NaN   \n",
       "1                     food.restaurant  12.939213  77.694701     NaN   \n",
       "2                                 NaN  12.940448  77.693816     NaN   \n",
       "3                                 NaN  12.939450  77.695305     NaN   \n",
       "4      health.wellbeing.swimming_pool  12.940660  77.693607     NaN   \n",
       "...                               ...        ...        ...     ...   \n",
       "42925                             NaN  12.976237  77.611640     NaN   \n",
       "42926                             NaN  12.976275  77.611514     NaN   \n",
       "42927                             NaN  12.976317  77.611396     NaN   \n",
       "42928                             NaN  12.821388  77.511637     NaN   \n",
       "42929                             NaN  13.068317  77.615481     NaN   \n",
       "\n",
       "            city      state country pin_code brand  \n",
       "0      Bangalore  Karnataka   India      NaN   NaN  \n",
       "1      Bangalore  Karnataka   India      NaN   NaN  \n",
       "2      Bangalore  Karnataka   India      NaN   NaN  \n",
       "3      Bangalore  Karnataka   India      NaN   NaN  \n",
       "4      Bangalore  Karnataka   India      NaN   NaN  \n",
       "...          ...        ...     ...      ...   ...  \n",
       "42925  Bangalore  Karnataka   India      NaN   NaN  \n",
       "42926  Bangalore  Karnataka   India      NaN   NaN  \n",
       "42927  Bangalore  Karnataka   India      NaN   NaN  \n",
       "42928  Bangalore  Karnataka   India   560082   NaN  \n",
       "42929  Bangalore  Karnataka   India   560064   NaN  \n",
       "\n",
       "[42930 rows x 12 columns]"
      ]
     },
     "execution_count": 2,
     "metadata": {},
     "output_type": "execute_result"
    }
   ],
   "source": [
    "df=pd.read_csv(\"hackathon22_osm_bang_mumbai.csv\")\n",
    "df"
   ]
  },
  {
   "cell_type": "code",
   "execution_count": 3,
   "metadata": {},
   "outputs": [
    {
     "data": {
      "text/plain": [
       "Index(['source', 'poi_code', 'name', 'poi_type', 'lat', 'long', 'address',\n",
       "       'city', 'state', 'country', 'pin_code', 'brand'],\n",
       "      dtype='object')"
      ]
     },
     "execution_count": 3,
     "metadata": {},
     "output_type": "execute_result"
    }
   ],
   "source": [
    "df.columns"
   ]
  },
  {
   "cell_type": "markdown",
   "metadata": {},
   "source": [
    "### This columns represents the following schema\n",
    "1. source: source from where the data was collected\n",
    "2. poi_code: unique identifier of the POI\n",
    "3. name: name of the POI\n",
    "4. poi_type: type of POI (e.g car dealership, shopping mall, etc)\n",
    "5. lat: latitude of the POI\n",
    "6. long: longitude of the POI\n",
    "7. address: address of POI\n",
    "8. city: city of POI\n",
    "9. state: state of POI\n",
    "10. country: country of POI\n",
    "11. pin_code: pincode of POI\n",
    "12. brand: brand information of POI\n"
   ]
  },
  {
   "cell_type": "code",
   "execution_count": 4,
   "metadata": {},
   "outputs": [
    {
     "name": "stdout",
     "output_type": "stream",
     "text": [
      "<class 'pandas.core.frame.DataFrame'>\n",
      "RangeIndex: 42930 entries, 0 to 42929\n",
      "Data columns (total 12 columns):\n",
      " #   Column    Non-Null Count  Dtype  \n",
      "---  ------    --------------  -----  \n",
      " 0   source    42930 non-null  object \n",
      " 1   poi_code  42930 non-null  object \n",
      " 2   name      29986 non-null  object \n",
      " 3   poi_type  22401 non-null  object \n",
      " 4   lat       42930 non-null  float64\n",
      " 5   long      42930 non-null  float64\n",
      " 6   address   2663 non-null   object \n",
      " 7   city      42930 non-null  object \n",
      " 8   state     42930 non-null  object \n",
      " 9   country   42930 non-null  object \n",
      " 10  pin_code  7953 non-null   object \n",
      " 11  brand     1081 non-null   object \n",
      "dtypes: float64(2), object(10)\n",
      "memory usage: 3.9+ MB\n"
     ]
    }
   ],
   "source": [
    "df.info()"
   ]
  },
  {
   "cell_type": "markdown",
   "metadata": {},
   "source": [
    "## Exploratory Data Analysis"
   ]
  },
  {
   "cell_type": "markdown",
   "metadata": {},
   "source": [
    "## Finding the distribution of data from dataset in various cities"
   ]
  },
  {
   "cell_type": "code",
   "execution_count": 5,
   "metadata": {},
   "outputs": [
    {
     "data": {
      "text/plain": [
       "<matplotlib.axes._subplots.AxesSubplot at 0x28256ff8148>"
      ]
     },
     "execution_count": 5,
     "metadata": {},
     "output_type": "execute_result"
    },
    {
     "data": {
      "image/png": "[encoded data removed]",
      "text/plain": [
       "<Figure size 432x288 with 1 Axes>"
      ]
     },
     "metadata": {
      "needs_background": "light"
     },
     "output_type": "display_data"
    }
   ],
   "source": [
    "sns.countplot(x ='city', data = df)"
   ]
  },
  {
   "cell_type": "markdown",
   "metadata": {},
   "source": [
    "### There are only 2 cities data in the dataset and majority data belongs to Bangalore city"
   ]
  },
  {
   "cell_type": "markdown",
   "metadata": {},
   "source": [
    "## Finding the distribution of data from dataset in various state"
   ]
  },
  {
   "cell_type": "code",
   "execution_count": 6,
   "metadata": {},
   "outputs": [
    {
     "data": {
      "text/plain": [
       "Index(['source', 'poi_code', 'name', 'poi_type', 'lat', 'long', 'address',\n",
       "       'city', 'state', 'country', 'pin_code', 'brand'],\n",
       "      dtype='object')"
      ]
     },
     "execution_count": 6,
     "metadata": {},
     "output_type": "execute_result"
    },
    {
     "data": {
      "image/png": "[encoded data removed]",
      "text/plain": [
       "<Figure size 432x288 with 1 Axes>"
      ]
     },
     "metadata": {
      "needs_background": "light"
     },
     "output_type": "display_data"
    }
   ],
   "source": [
    "sns.countplot(x ='state', data = df)\n",
    "df.columns"
   ]
  },
  {
   "cell_type": "markdown",
   "metadata": {},
   "source": [
    "### As there are only 2 city and as they are both from different states we get 2 different states, Karantaka dominating the count of records in dataset "
   ]
  },
  {
   "cell_type": "markdown",
   "metadata": {},
   "source": [
    "## Displaying the count of top 10 brands given in the data"
   ]
  },
  {
   "cell_type": "code",
   "execution_count": 7,
   "metadata": {},
   "outputs": [
    {
     "data": {
      "text/plain": [
       "<matplotlib.axes._subplots.AxesSubplot at 0x28258074a88>"
      ]
     },
     "execution_count": 7,
     "metadata": {},
     "output_type": "execute_result"
    },
    {
     "data": {
      "image/png": "[encoded data removed]",
      "text/plain": [
       "<Figure size 432x288 with 1 Axes>"
      ]
     },
     "metadata": {
      "needs_background": "light"
     },
     "output_type": "display_data"
    }
   ],
   "source": [
    "df['brand'].value_counts()[:10].plot(kind='bar')"
   ]
  },
  {
   "cell_type": "markdown",
   "metadata": {},
   "source": [
    "### This graph represent the top 10 brands according to the data: State bank of india, Indian Oil, ICICI, McDonalds, HDFC Bank, ICICI Bank, Axis Bank, HDFC, Cafe Coffe Day and KFC"
   ]
  },
  {
   "cell_type": "markdown",
   "metadata": {},
   "source": [
    "## Displaying the count of top 10 poi_type given in the data"
   ]
  },
  {
   "cell_type": "code",
   "execution_count": 8,
   "metadata": {},
   "outputs": [
    {
     "data": {
      "text/plain": [
       "<matplotlib.axes._subplots.AxesSubplot at 0x2825811bd08>"
      ]
     },
     "execution_count": 8,
     "metadata": {},
     "output_type": "execute_result"
    },
    {
     "data": {
      "image/png": "[encoded data removed]",
      "text/plain": [
       "<Figure size 432x288 with 1 Axes>"
      ]
     },
     "metadata": {
      "needs_background": "light"
     },
     "output_type": "display_data"
    }
   ],
   "source": [
    "df['poi_type'].value_counts()[:10].plot(kind='bar')"
   ]
  },
  {
   "cell_type": "markdown",
   "metadata": {},
   "source": [
    "### This graph represent the top 10 poi_types from the dataset: Restaurent, Heath-hospital,service-finance-bank,health-clinic,service-finance-atm,fast-food,shop-fashion,education-school,service-pharmacy,food-cafe"
   ]
  },
  {
   "cell_type": "markdown",
   "metadata": {},
   "source": [
    "## Displaying the count of top 10 pin_code given in the data"
   ]
  },
  {
   "cell_type": "code",
   "execution_count": 9,
   "metadata": {},
   "outputs": [
    {
     "data": {
      "text/plain": [
       "<matplotlib.axes._subplots.AxesSubplot at 0x28258192b48>"
      ]
     },
     "execution_count": 9,
     "metadata": {},
     "output_type": "execute_result"
    },
    {
     "data": {
      "image/png": "[encoded data removed]",
      "text/plain": [
       "<Figure size 432x288 with 1 Axes>"
      ]
     },
     "metadata": {
      "needs_background": "light"
     },
     "output_type": "display_data"
    }
   ],
   "source": [
    "df['pin_code'].value_counts()[:10].plot(kind='bar')"
   ]
  },
  {
   "cell_type": "markdown",
   "metadata": {},
   "source": [
    "### Top 10 pincodes that appear in this dataset are 40050,560037,560066,560003,560043,560076,560103,560010,400057"
   ]
  },
  {
   "cell_type": "markdown",
   "metadata": {},
   "source": [
    "## Distribution of latitude in given dataset"
   ]
  },
  {
   "cell_type": "code",
   "execution_count": 10,
   "metadata": {},
   "outputs": [
    {
     "data": {
      "text/plain": [
       "<matplotlib.axes._subplots.AxesSubplot at 0x282591dcdc8>"
      ]
     },
     "execution_count": 10,
     "metadata": {},
     "output_type": "execute_result"
    },
    {
     "data": {
      "image/png": "[encoded data removed]",
      "text/plain": [
       "<Figure size 432x288 with 1 Axes>"
      ]
     },
     "metadata": {
      "needs_background": "light"
     },
     "output_type": "display_data"
    }
   ],
   "source": [
    "sns.histplot(data=df, x=\"lat\")"
   ]
  },
  {
   "cell_type": "markdown",
   "metadata": {},
   "source": [
    "### This dataset has latitude on value 13 and 19 and on no other latitutes"
   ]
  },
  {
   "cell_type": "markdown",
   "metadata": {},
   "source": [
    "## Distribution of longitute in given dataset"
   ]
  },
  {
   "cell_type": "code",
   "execution_count": 11,
   "metadata": {},
   "outputs": [
    {
     "data": {
      "text/plain": [
       "<matplotlib.axes._subplots.AxesSubplot at 0x282592bf288>"
      ]
     },
     "execution_count": 11,
     "metadata": {},
     "output_type": "execute_result"
    },
    {
     "data": {
      "image/png": "[encoded data removed]",
      "text/plain": [
       "<Figure size 432x288 with 1 Axes>"
      ]
     },
     "metadata": {
      "needs_background": "light"
     },
     "output_type": "display_data"
    }
   ],
   "source": [
    "sns.histplot(data=df, x=\"long\")"
   ]
  },
  {
   "cell_type": "markdown",
   "metadata": {},
   "source": [
    "### This dataset has longitute: 73 and between 77 and 78 and no other"
   ]
  },
  {
   "cell_type": "markdown",
   "metadata": {},
   "source": [
    "## Distribution of top 5 poi_types latitutewise"
   ]
  },
  {
   "cell_type": "code",
   "execution_count": 12,
   "metadata": {},
   "outputs": [
    {
     "data": {
      "text/plain": [
       "<seaborn.axisgrid.FacetGrid at 0x28256c31588>"
      ]
     },
     "execution_count": 12,
     "metadata": {},
     "output_type": "execute_result"
    },
    {
     "data": {
      "image/png": "[encoded data removed]",
      "text/plain": [
       "<Figure size 842.4x595.44 with 1 Axes>"
      ]
     },
     "metadata": {
      "needs_background": "light"
     },
     "output_type": "display_data"
    }
   ],
   "source": [
    "df1=df['poi_type'].value_counts()[:5]\n",
    "df2=df[df['poi_type'].isin(df1.index.tolist())]\n",
    "sns.catplot(data=df2, x=\"poi_type\", y=\"lat\",height=8.27, aspect=11.7/8.27)"
   ]
  },
  {
   "cell_type": "markdown",
   "metadata": {},
   "source": [
    "### This graph represent that top 5 poi_type food.restuarent,service.finance.atm,health.hospital,service.finance,health.clinic are available only 2 latitue points 13 and 19"
   ]
  },
  {
   "cell_type": "markdown",
   "metadata": {},
   "source": [
    "## Distribution of top 5 brand latitutewise"
   ]
  },
  {
   "cell_type": "code",
   "execution_count": 13,
   "metadata": {},
   "outputs": [
    {
     "data": {
      "text/plain": [
       "<seaborn.axisgrid.FacetGrid at 0x2825933fe88>"
      ]
     },
     "execution_count": 13,
     "metadata": {},
     "output_type": "execute_result"
    },
    {
     "data": {
      "image/png": "[encoded data removed]",
      "text/plain": [
       "<Figure size 842.4x595.44 with 1 Axes>"
      ]
     },
     "metadata": {
      "needs_background": "light"
     },
     "output_type": "display_data"
    }
   ],
   "source": [
    "df1=df['brand'].value_counts()[:5]\n",
    "df2=df[df['brand'].isin(df1.index.tolist())]\n",
    "sns.catplot(data=df2, x=\"brand\", y=\"lat\",height=8.27, aspect=11.7/8.27)"
   ]
  },
  {
   "cell_type": "markdown",
   "metadata": {},
   "source": [
    "### This graph represents the top 5 brands: State bank of india,indian oil, McDonalds,HDFC bank, ICICI are present on only 2 latitudes 13 and 19"
   ]
  },
  {
   "cell_type": "markdown",
   "metadata": {},
   "source": [
    "## Top 5 poi_type based on longitutewise"
   ]
  },
  {
   "cell_type": "code",
   "execution_count": 14,
   "metadata": {},
   "outputs": [
    {
     "data": {
      "text/plain": [
       "<seaborn.axisgrid.FacetGrid at 0x28259602a48>"
      ]
     },
     "execution_count": 14,
     "metadata": {},
     "output_type": "execute_result"
    },
    {
     "data": {
      "image/png": "[encoded data removed]",
      "text/plain": [
       "<Figure size 842.4x595.44 with 1 Axes>"
      ]
     },
     "metadata": {
      "needs_background": "light"
     },
     "output_type": "display_data"
    }
   ],
   "source": [
    "df1=df['poi_type'].value_counts()[:5]\n",
    "df2=df[df['poi_type'].isin(df1.index.tolist())]\n",
    "sns.catplot(data=df2, x=\"poi_type\", y=\"long\",height=8.27, aspect=11.7/8.27)"
   ]
  },
  {
   "cell_type": "markdown",
   "metadata": {},
   "source": [
    "### This graph represent that top 5 poi_type food.restuarent,service.finance.atm,health.hospital,service.finance,health.clinic are available only 2 longitude points 73 and 78"
   ]
  },
  {
   "cell_type": "markdown",
   "metadata": {},
   "source": [
    "## Top 5 brand based on longitutewise"
   ]
  },
  {
   "cell_type": "code",
   "execution_count": 15,
   "metadata": {},
   "outputs": [
    {
     "data": {
      "text/plain": [
       "<seaborn.axisgrid.FacetGrid at 0x28259c6c7c8>"
      ]
     },
     "execution_count": 15,
     "metadata": {},
     "output_type": "execute_result"
    },
    {
     "data": {
      "image/png": "[encoded data removed]",
      "text/plain": [
       "<Figure size 842.4x595.44 with 1 Axes>"
      ]
     },
     "metadata": {
      "needs_background": "light"
     },
     "output_type": "display_data"
    }
   ],
   "source": [
    "df1=df['brand'].value_counts()[:5]\n",
    "df2=df[df['brand'].isin(df1.index.tolist())]\n",
    "sns.catplot(data=df2, x=\"brand\", y=\"long\",height=8.27, aspect=11.7/8.27)"
   ]
  },
  {
   "cell_type": "markdown",
   "metadata": {},
   "source": [
    "### This graph represents the top 5 brands: State bank of india,indian oil, McDonalds,HDFC bank, ICICI are present on only 2 latitudes 73 and 78"
   ]
  },
  {
   "cell_type": "markdown",
   "metadata": {},
   "source": [
    "## This graph represents which top 5 brands represents which 5 top poi_type"
   ]
  },
  {
   "cell_type": "code",
   "execution_count": 16,
   "metadata": {},
   "outputs": [
    {
     "data": {
      "text/plain": [
       "<seaborn.axisgrid.FacetGrid at 0x28259ed4b48>"
      ]
     },
     "execution_count": 16,
     "metadata": {},
     "output_type": "execute_result"
    },
    {
     "data": {
      "image/png": "[encoded data removed]",
      "text/plain": [
       "<Figure size 842.4x595.44 with 1 Axes>"
      ]
     },
     "metadata": {
      "needs_background": "light"
     },
     "output_type": "display_data"
    }
   ],
   "source": [
    "df1=df['brand'].value_counts()[:5]\n",
    "df2=df[df['brand'].isin(df1.index.tolist())]\n",
    "sns.catplot(data=df2, x=\"brand\", y=\"poi_type\",height=8.27, aspect=11.7/8.27)"
   ]
  },
  {
   "cell_type": "markdown",
   "metadata": {},
   "source": [
    "### This graph shows which brands represent what poi_type from the dataset"
   ]
  },
  {
   "cell_type": "markdown",
   "metadata": {},
   "source": [
    "## Count of top 5 brands in accordance with city- Mumbai and bangalore respectively"
   ]
  },
  {
   "cell_type": "code",
   "execution_count": 22,
   "metadata": {},
   "outputs": [
    {
     "data": {
      "text/plain": [
       "<matplotlib.axes._subplots.AxesSubplot at 0x2825aabf188>"
      ]
     },
     "execution_count": 22,
     "metadata": {},
     "output_type": "execute_result"
    },
    {
     "data": {
      "image/png": "[encoded data removed]",
      "text/plain": [
       "<Figure size 432x288 with 1 Axes>"
      ]
     },
     "metadata": {
      "needs_background": "light"
     },
     "output_type": "display_data"
    }
   ],
   "source": [
    "df1=df['brand'].value_counts()[:5]\n",
    "df2=df[df['brand'].isin(df1.index.tolist())]\n",
    "#to increase y ticks size\n",
    "plt.yticks(size=10)\n",
    "#to increase x ticks \n",
    "plt.xticks(size=8)\n",
    "sns.countplot(x = 'brand',\n",
    "            hue = 'city',\n",
    "            data = df2,hue_order=['Mumbai','Bangalore'])"
   ]
  },
  {
   "cell_type": "markdown",
   "metadata": {},
   "source": [
    "### The distribution of top 5 brands are shown in accordance with the 2 cities: We can easily conclude that more brands are present in Banglore as compared to Mumbai"
   ]
  },
  {
   "cell_type": "markdown",
   "metadata": {},
   "source": [
    "## Count of top 5 poi_type in accordance of 2 cities Mumbai and Bangalore respectively"
   ]
  },
  {
   "cell_type": "code",
   "execution_count": 28,
   "metadata": {},
   "outputs": [
    {
     "data": {
      "text/plain": [
       "<matplotlib.axes._subplots.AxesSubplot at 0x2825be598c8>"
      ]
     },
     "execution_count": 28,
     "metadata": {},
     "output_type": "execute_result"
    },
    {
     "data": {
      "image/png": "[encoded data removed]",
      "text/plain": [
       "<Figure size 432x288 with 1 Axes>"
      ]
     },
     "metadata": {
      "needs_background": "light"
     },
     "output_type": "display_data"
    }
   ],
   "source": [
    "df1=df['poi_type'].value_counts()[:5]\n",
    "df2=df[df['poi_type'].isin(df1.index.tolist())]\n",
    "#to increase y ticks size\n",
    "plt.yticks(size=10)\n",
    "#to increase x ticks \n",
    "plt.xticks(size=6.5)\n",
    "sns.countplot(x = 'poi_type',\n",
    "            hue = 'city',\n",
    "            data = df2,hue_order=['Mumbai','Bangalore'])"
   ]
  },
  {
   "cell_type": "markdown",
   "metadata": {},
   "source": [
    "### The distribution of top 5 poi_type are shown in accordance with the 2 cities: We can easily conclude that more brands are present in Banglore as compared to Mumbai"
   ]
  },
  {
   "cell_type": "markdown",
   "metadata": {},
   "source": [
    "## Finding features having missing values"
   ]
  },
  {
   "cell_type": "code",
   "execution_count": 29,
   "metadata": {},
   "outputs": [
    {
     "data": {
      "text/plain": [
       "['name', 'poi_type', 'address', 'pin_code', 'brand']"
      ]
     },
     "execution_count": 29,
     "metadata": {},
     "output_type": "execute_result"
    }
   ],
   "source": [
    "features_with_missing_values=[feature for feature in df.columns if df[feature].isnull().sum()>0]\n",
    "features_with_missing_values"
   ]
  },
  {
   "cell_type": "markdown",
   "metadata": {},
   "source": [
    "### Features having missing values are\n",
    "1. name\n",
    "2. poi_type\n",
    "3. address\n",
    "4. pin_code\n",
    "5. brand"
   ]
  },
  {
   "cell_type": "markdown",
   "metadata": {},
   "source": [
    "## Splitting features into categorical and numerical features"
   ]
  },
  {
   "cell_type": "code",
   "execution_count": 30,
   "metadata": {},
   "outputs": [
    {
     "data": {
      "text/plain": [
       "['source',\n",
       " 'poi_code',\n",
       " 'name',\n",
       " 'poi_type',\n",
       " 'address',\n",
       " 'city',\n",
       " 'state',\n",
       " 'country',\n",
       " 'pin_code',\n",
       " 'brand']"
      ]
     },
     "execution_count": 30,
     "metadata": {},
     "output_type": "execute_result"
    }
   ],
   "source": [
    "categorical_feature=[feature for feature in df.columns if df[feature].dtype=='O']\n",
    "categorical_feature"
   ]
  },
  {
   "cell_type": "code",
   "execution_count": 31,
   "metadata": {},
   "outputs": [
    {
     "data": {
      "text/plain": [
       "['lat', 'long']"
      ]
     },
     "execution_count": 31,
     "metadata": {},
     "output_type": "execute_result"
    }
   ],
   "source": [
    "numerical_feature=[feature for feature in df.columns if df[feature].dtype!='O']\n",
    "numerical_feature"
   ]
  },
  {
   "cell_type": "markdown",
   "metadata": {},
   "source": [
    "## Adding H3 index column using latitute and longitute column"
   ]
  },
  {
   "cell_type": "code",
   "execution_count": 34,
   "metadata": {},
   "outputs": [
    {
     "data": {
      "text/html": [
       "<div>\n",
       "<style scoped>\n",
       "    .dataframe tbody tr th:only-of-type {\n",
       "        vertical-align: middle;\n",
       "    }\n",
       "\n",
       "    .dataframe tbody tr th {\n",
       "        vertical-align: top;\n",
       "    }\n",
       "\n",
       "    .dataframe thead th {\n",
       "        text-align: right;\n",
       "    }\n",
       "</style>\n",
       "<table border=\"1\" class=\"dataframe\">\n",
       "  <thead>\n",
       "    <tr style=\"text-align: right;\">\n",
       "      <th></th>\n",
       "      <th>source</th>\n",
       "      <th>poi_code</th>\n",
       "      <th>name</th>\n",
       "      <th>poi_type</th>\n",
       "      <th>lat</th>\n",
       "      <th>long</th>\n",
       "      <th>address</th>\n",
       "      <th>city</th>\n",
       "      <th>state</th>\n",
       "      <th>country</th>\n",
       "      <th>pin_code</th>\n",
       "      <th>brand</th>\n",
       "      <th>H3_index</th>\n",
       "    </tr>\n",
       "  </thead>\n",
       "  <tbody>\n",
       "    <tr>\n",
       "      <th>0</th>\n",
       "      <td>OSM</td>\n",
       "      <td>POI_1003_6612393918</td>\n",
       "      <td>Parle</td>\n",
       "      <td>shop.food.bakery</td>\n",
       "      <td>13.049754</td>\n",
       "      <td>77.492895</td>\n",
       "      <td>NaN</td>\n",
       "      <td>Bangalore</td>\n",
       "      <td>Karnataka</td>\n",
       "      <td>India</td>\n",
       "      <td>NaN</td>\n",
       "      <td>NaN</td>\n",
       "      <td>876014598ffffff</td>\n",
       "    </tr>\n",
       "    <tr>\n",
       "      <th>1</th>\n",
       "      <td>OSM</td>\n",
       "      <td>POI_1003_6613030600</td>\n",
       "      <td>The Black Pearl</td>\n",
       "      <td>food.restaurant</td>\n",
       "      <td>12.939213</td>\n",
       "      <td>77.694701</td>\n",
       "      <td>NaN</td>\n",
       "      <td>Bangalore</td>\n",
       "      <td>Karnataka</td>\n",
       "      <td>India</td>\n",
       "      <td>NaN</td>\n",
       "      <td>NaN</td>\n",
       "      <td>876189209ffffff</td>\n",
       "    </tr>\n",
       "    <tr>\n",
       "      <th>2</th>\n",
       "      <td>OSM</td>\n",
       "      <td>POI_1003_4668296373</td>\n",
       "      <td>Temple</td>\n",
       "      <td>NaN</td>\n",
       "      <td>12.940448</td>\n",
       "      <td>77.693816</td>\n",
       "      <td>NaN</td>\n",
       "      <td>Bangalore</td>\n",
       "      <td>Karnataka</td>\n",
       "      <td>India</td>\n",
       "      <td>NaN</td>\n",
       "      <td>NaN</td>\n",
       "      <td>876189209ffffff</td>\n",
       "    </tr>\n",
       "    <tr>\n",
       "      <th>3</th>\n",
       "      <td>OSM</td>\n",
       "      <td>POI_1003_3771995983</td>\n",
       "      <td>Kadubeesanahalli Underpass</td>\n",
       "      <td>NaN</td>\n",
       "      <td>12.939450</td>\n",
       "      <td>77.695305</td>\n",
       "      <td>NaN</td>\n",
       "      <td>Bangalore</td>\n",
       "      <td>Karnataka</td>\n",
       "      <td>India</td>\n",
       "      <td>NaN</td>\n",
       "      <td>NaN</td>\n",
       "      <td>876189209ffffff</td>\n",
       "    </tr>\n",
       "    <tr>\n",
       "      <th>4</th>\n",
       "      <td>OSM</td>\n",
       "      <td>POI_1003_2413350412</td>\n",
       "      <td>NaN</td>\n",
       "      <td>health.wellbeing.swimming_pool</td>\n",
       "      <td>12.940660</td>\n",
       "      <td>77.693607</td>\n",
       "      <td>NaN</td>\n",
       "      <td>Bangalore</td>\n",
       "      <td>Karnataka</td>\n",
       "      <td>India</td>\n",
       "      <td>NaN</td>\n",
       "      <td>NaN</td>\n",
       "      <td>876189209ffffff</td>\n",
       "    </tr>\n",
       "    <tr>\n",
       "      <th>...</th>\n",
       "      <td>...</td>\n",
       "      <td>...</td>\n",
       "      <td>...</td>\n",
       "      <td>...</td>\n",
       "      <td>...</td>\n",
       "      <td>...</td>\n",
       "      <td>...</td>\n",
       "      <td>...</td>\n",
       "      <td>...</td>\n",
       "      <td>...</td>\n",
       "      <td>...</td>\n",
       "      <td>...</td>\n",
       "      <td>...</td>\n",
       "    </tr>\n",
       "    <tr>\n",
       "      <th>42925</th>\n",
       "      <td>OSM</td>\n",
       "      <td>POI_1003_3740962178</td>\n",
       "      <td>NaN</td>\n",
       "      <td>NaN</td>\n",
       "      <td>12.976237</td>\n",
       "      <td>77.611640</td>\n",
       "      <td>NaN</td>\n",
       "      <td>Bangalore</td>\n",
       "      <td>Karnataka</td>\n",
       "      <td>India</td>\n",
       "      <td>NaN</td>\n",
       "      <td>NaN</td>\n",
       "      <td>8761892e9ffffff</td>\n",
       "    </tr>\n",
       "    <tr>\n",
       "      <th>42926</th>\n",
       "      <td>OSM</td>\n",
       "      <td>POI_1003_3740962179</td>\n",
       "      <td>NaN</td>\n",
       "      <td>NaN</td>\n",
       "      <td>12.976275</td>\n",
       "      <td>77.611514</td>\n",
       "      <td>NaN</td>\n",
       "      <td>Bangalore</td>\n",
       "      <td>Karnataka</td>\n",
       "      <td>India</td>\n",
       "      <td>NaN</td>\n",
       "      <td>NaN</td>\n",
       "      <td>8761892e9ffffff</td>\n",
       "    </tr>\n",
       "    <tr>\n",
       "      <th>42927</th>\n",
       "      <td>OSM</td>\n",
       "      <td>POI_1003_3740962181</td>\n",
       "      <td>NaN</td>\n",
       "      <td>NaN</td>\n",
       "      <td>12.976317</td>\n",
       "      <td>77.611396</td>\n",
       "      <td>NaN</td>\n",
       "      <td>Bangalore</td>\n",
       "      <td>Karnataka</td>\n",
       "      <td>India</td>\n",
       "      <td>NaN</td>\n",
       "      <td>NaN</td>\n",
       "      <td>8761892e9ffffff</td>\n",
       "    </tr>\n",
       "    <tr>\n",
       "      <th>42928</th>\n",
       "      <td>OSM</td>\n",
       "      <td>POI_1003_3742106925</td>\n",
       "      <td>Soudhamani Estate NSB</td>\n",
       "      <td>NaN</td>\n",
       "      <td>12.821388</td>\n",
       "      <td>77.511637</td>\n",
       "      <td>NaN</td>\n",
       "      <td>Bangalore</td>\n",
       "      <td>Karnataka</td>\n",
       "      <td>India</td>\n",
       "      <td>560082</td>\n",
       "      <td>NaN</td>\n",
       "      <td>876014531ffffff</td>\n",
       "    </tr>\n",
       "    <tr>\n",
       "      <th>42929</th>\n",
       "      <td>OSM</td>\n",
       "      <td>POI_1003_3742207976</td>\n",
       "      <td>NaN</td>\n",
       "      <td>NaN</td>\n",
       "      <td>13.068317</td>\n",
       "      <td>77.615481</td>\n",
       "      <td>NaN</td>\n",
       "      <td>Bangalore</td>\n",
       "      <td>Karnataka</td>\n",
       "      <td>India</td>\n",
       "      <td>560064</td>\n",
       "      <td>NaN</td>\n",
       "      <td>8761892caffffff</td>\n",
       "    </tr>\n",
       "  </tbody>\n",
       "</table>\n",
       "<p>42930 rows × 13 columns</p>\n",
       "</div>"
      ],
      "text/plain": [
       "      source             poi_code                        name  \\\n",
       "0        OSM  POI_1003_6612393918                       Parle   \n",
       "1        OSM  POI_1003_6613030600             The Black Pearl   \n",
       "2        OSM  POI_1003_4668296373                      Temple   \n",
       "3        OSM  POI_1003_3771995983  Kadubeesanahalli Underpass   \n",
       "4        OSM  POI_1003_2413350412                         NaN   \n",
       "...      ...                  ...                         ...   \n",
       "42925    OSM  POI_1003_3740962178                         NaN   \n",
       "42926    OSM  POI_1003_3740962179                         NaN   \n",
       "42927    OSM  POI_1003_3740962181                         NaN   \n",
       "42928    OSM  POI_1003_3742106925       Soudhamani Estate NSB   \n",
       "42929    OSM  POI_1003_3742207976                         NaN   \n",
       "\n",
       "                             poi_type        lat       long address  \\\n",
       "0                    shop.food.bakery  13.049754  77.492895     NaN   \n",
       "1                     food.restaurant  12.939213  77.694701     NaN   \n",
       "2                                 NaN  12.940448  77.693816     NaN   \n",
       "3                                 NaN  12.939450  77.695305     NaN   \n",
       "4      health.wellbeing.swimming_pool  12.940660  77.693607     NaN   \n",
       "...                               ...        ...        ...     ...   \n",
       "42925                             NaN  12.976237  77.611640     NaN   \n",
       "42926                             NaN  12.976275  77.611514     NaN   \n",
       "42927                             NaN  12.976317  77.611396     NaN   \n",
       "42928                             NaN  12.821388  77.511637     NaN   \n",
       "42929                             NaN  13.068317  77.615481     NaN   \n",
       "\n",
       "            city      state country pin_code brand         H3_index  \n",
       "0      Bangalore  Karnataka   India      NaN   NaN  876014598ffffff  \n",
       "1      Bangalore  Karnataka   India      NaN   NaN  876189209ffffff  \n",
       "2      Bangalore  Karnataka   India      NaN   NaN  876189209ffffff  \n",
       "3      Bangalore  Karnataka   India      NaN   NaN  876189209ffffff  \n",
       "4      Bangalore  Karnataka   India      NaN   NaN  876189209ffffff  \n",
       "...          ...        ...     ...      ...   ...              ...  \n",
       "42925  Bangalore  Karnataka   India      NaN   NaN  8761892e9ffffff  \n",
       "42926  Bangalore  Karnataka   India      NaN   NaN  8761892e9ffffff  \n",
       "42927  Bangalore  Karnataka   India      NaN   NaN  8761892e9ffffff  \n",
       "42928  Bangalore  Karnataka   India   560082   NaN  876014531ffffff  \n",
       "42929  Bangalore  Karnataka   India   560064   NaN  8761892caffffff  \n",
       "\n",
       "[42930 rows x 13 columns]"
      ]
     },
     "execution_count": 34,
     "metadata": {},
     "output_type": "execute_result"
    }
   ],
   "source": [
    "df['H3_index'] = df.apply(lambda x:h3.geo_to_h3(\n",
    "    lat=x.lat,\n",
    "    lng=x.long,\n",
    "    resolution=7) \n",
    "    ,axis=1)\n",
    "df"
   ]
  },
  {
   "cell_type": "markdown",
   "metadata": {},
   "source": [
    "## Using h3 index column adding parent column"
   ]
  },
  {
   "cell_type": "code",
   "execution_count": 35,
   "metadata": {},
   "outputs": [
    {
     "data": {
      "text/html": [
       "<div>\n",
       "<style scoped>\n",
       "    .dataframe tbody tr th:only-of-type {\n",
       "        vertical-align: middle;\n",
       "    }\n",
       "\n",
       "    .dataframe tbody tr th {\n",
       "        vertical-align: top;\n",
       "    }\n",
       "\n",
       "    .dataframe thead th {\n",
       "        text-align: right;\n",
       "    }\n",
       "</style>\n",
       "<table border=\"1\" class=\"dataframe\">\n",
       "  <thead>\n",
       "    <tr style=\"text-align: right;\">\n",
       "      <th></th>\n",
       "      <th>source</th>\n",
       "      <th>poi_code</th>\n",
       "      <th>name</th>\n",
       "      <th>poi_type</th>\n",
       "      <th>lat</th>\n",
       "      <th>long</th>\n",
       "      <th>address</th>\n",
       "      <th>city</th>\n",
       "      <th>state</th>\n",
       "      <th>country</th>\n",
       "      <th>pin_code</th>\n",
       "      <th>brand</th>\n",
       "      <th>H3_index</th>\n",
       "      <th>H3_parent</th>\n",
       "    </tr>\n",
       "  </thead>\n",
       "  <tbody>\n",
       "    <tr>\n",
       "      <th>0</th>\n",
       "      <td>OSM</td>\n",
       "      <td>POI_1003_6612393918</td>\n",
       "      <td>Parle</td>\n",
       "      <td>shop.food.bakery</td>\n",
       "      <td>13.049754</td>\n",
       "      <td>77.492895</td>\n",
       "      <td>NaN</td>\n",
       "      <td>Bangalore</td>\n",
       "      <td>Karnataka</td>\n",
       "      <td>India</td>\n",
       "      <td>NaN</td>\n",
       "      <td>NaN</td>\n",
       "      <td>876014598ffffff</td>\n",
       "      <td>86601459fffffff</td>\n",
       "    </tr>\n",
       "    <tr>\n",
       "      <th>1</th>\n",
       "      <td>OSM</td>\n",
       "      <td>POI_1003_6613030600</td>\n",
       "      <td>The Black Pearl</td>\n",
       "      <td>food.restaurant</td>\n",
       "      <td>12.939213</td>\n",
       "      <td>77.694701</td>\n",
       "      <td>NaN</td>\n",
       "      <td>Bangalore</td>\n",
       "      <td>Karnataka</td>\n",
       "      <td>India</td>\n",
       "      <td>NaN</td>\n",
       "      <td>NaN</td>\n",
       "      <td>876189209ffffff</td>\n",
       "      <td>86618920fffffff</td>\n",
       "    </tr>\n",
       "    <tr>\n",
       "      <th>2</th>\n",
       "      <td>OSM</td>\n",
       "      <td>POI_1003_4668296373</td>\n",
       "      <td>Temple</td>\n",
       "      <td>NaN</td>\n",
       "      <td>12.940448</td>\n",
       "      <td>77.693816</td>\n",
       "      <td>NaN</td>\n",
       "      <td>Bangalore</td>\n",
       "      <td>Karnataka</td>\n",
       "      <td>India</td>\n",
       "      <td>NaN</td>\n",
       "      <td>NaN</td>\n",
       "      <td>876189209ffffff</td>\n",
       "      <td>86618920fffffff</td>\n",
       "    </tr>\n",
       "    <tr>\n",
       "      <th>3</th>\n",
       "      <td>OSM</td>\n",
       "      <td>POI_1003_3771995983</td>\n",
       "      <td>Kadubeesanahalli Underpass</td>\n",
       "      <td>NaN</td>\n",
       "      <td>12.939450</td>\n",
       "      <td>77.695305</td>\n",
       "      <td>NaN</td>\n",
       "      <td>Bangalore</td>\n",
       "      <td>Karnataka</td>\n",
       "      <td>India</td>\n",
       "      <td>NaN</td>\n",
       "      <td>NaN</td>\n",
       "      <td>876189209ffffff</td>\n",
       "      <td>86618920fffffff</td>\n",
       "    </tr>\n",
       "    <tr>\n",
       "      <th>4</th>\n",
       "      <td>OSM</td>\n",
       "      <td>POI_1003_2413350412</td>\n",
       "      <td>NaN</td>\n",
       "      <td>health.wellbeing.swimming_pool</td>\n",
       "      <td>12.940660</td>\n",
       "      <td>77.693607</td>\n",
       "      <td>NaN</td>\n",
       "      <td>Bangalore</td>\n",
       "      <td>Karnataka</td>\n",
       "      <td>India</td>\n",
       "      <td>NaN</td>\n",
       "      <td>NaN</td>\n",
       "      <td>876189209ffffff</td>\n",
       "      <td>86618920fffffff</td>\n",
       "    </tr>\n",
       "    <tr>\n",
       "      <th>...</th>\n",
       "      <td>...</td>\n",
       "      <td>...</td>\n",
       "      <td>...</td>\n",
       "      <td>...</td>\n",
       "      <td>...</td>\n",
       "      <td>...</td>\n",
       "      <td>...</td>\n",
       "      <td>...</td>\n",
       "      <td>...</td>\n",
       "      <td>...</td>\n",
       "      <td>...</td>\n",
       "      <td>...</td>\n",
       "      <td>...</td>\n",
       "      <td>...</td>\n",
       "    </tr>\n",
       "    <tr>\n",
       "      <th>42925</th>\n",
       "      <td>OSM</td>\n",
       "      <td>POI_1003_3740962178</td>\n",
       "      <td>NaN</td>\n",
       "      <td>NaN</td>\n",
       "      <td>12.976237</td>\n",
       "      <td>77.611640</td>\n",
       "      <td>NaN</td>\n",
       "      <td>Bangalore</td>\n",
       "      <td>Karnataka</td>\n",
       "      <td>India</td>\n",
       "      <td>NaN</td>\n",
       "      <td>NaN</td>\n",
       "      <td>8761892e9ffffff</td>\n",
       "      <td>8661892efffffff</td>\n",
       "    </tr>\n",
       "    <tr>\n",
       "      <th>42926</th>\n",
       "      <td>OSM</td>\n",
       "      <td>POI_1003_3740962179</td>\n",
       "      <td>NaN</td>\n",
       "      <td>NaN</td>\n",
       "      <td>12.976275</td>\n",
       "      <td>77.611514</td>\n",
       "      <td>NaN</td>\n",
       "      <td>Bangalore</td>\n",
       "      <td>Karnataka</td>\n",
       "      <td>India</td>\n",
       "      <td>NaN</td>\n",
       "      <td>NaN</td>\n",
       "      <td>8761892e9ffffff</td>\n",
       "      <td>8661892efffffff</td>\n",
       "    </tr>\n",
       "    <tr>\n",
       "      <th>42927</th>\n",
       "      <td>OSM</td>\n",
       "      <td>POI_1003_3740962181</td>\n",
       "      <td>NaN</td>\n",
       "      <td>NaN</td>\n",
       "      <td>12.976317</td>\n",
       "      <td>77.611396</td>\n",
       "      <td>NaN</td>\n",
       "      <td>Bangalore</td>\n",
       "      <td>Karnataka</td>\n",
       "      <td>India</td>\n",
       "      <td>NaN</td>\n",
       "      <td>NaN</td>\n",
       "      <td>8761892e9ffffff</td>\n",
       "      <td>8661892efffffff</td>\n",
       "    </tr>\n",
       "    <tr>\n",
       "      <th>42928</th>\n",
       "      <td>OSM</td>\n",
       "      <td>POI_1003_3742106925</td>\n",
       "      <td>Soudhamani Estate NSB</td>\n",
       "      <td>NaN</td>\n",
       "      <td>12.821388</td>\n",
       "      <td>77.511637</td>\n",
       "      <td>NaN</td>\n",
       "      <td>Bangalore</td>\n",
       "      <td>Karnataka</td>\n",
       "      <td>India</td>\n",
       "      <td>560082</td>\n",
       "      <td>NaN</td>\n",
       "      <td>876014531ffffff</td>\n",
       "      <td>866014537ffffff</td>\n",
       "    </tr>\n",
       "    <tr>\n",
       "      <th>42929</th>\n",
       "      <td>OSM</td>\n",
       "      <td>POI_1003_3742207976</td>\n",
       "      <td>NaN</td>\n",
       "      <td>NaN</td>\n",
       "      <td>13.068317</td>\n",
       "      <td>77.615481</td>\n",
       "      <td>NaN</td>\n",
       "      <td>Bangalore</td>\n",
       "      <td>Karnataka</td>\n",
       "      <td>India</td>\n",
       "      <td>560064</td>\n",
       "      <td>NaN</td>\n",
       "      <td>8761892caffffff</td>\n",
       "      <td>8661892cfffffff</td>\n",
       "    </tr>\n",
       "  </tbody>\n",
       "</table>\n",
       "<p>42930 rows × 14 columns</p>\n",
       "</div>"
      ],
      "text/plain": [
       "      source             poi_code                        name  \\\n",
       "0        OSM  POI_1003_6612393918                       Parle   \n",
       "1        OSM  POI_1003_6613030600             The Black Pearl   \n",
       "2        OSM  POI_1003_4668296373                      Temple   \n",
       "3        OSM  POI_1003_3771995983  Kadubeesanahalli Underpass   \n",
       "4        OSM  POI_1003_2413350412                         NaN   \n",
       "...      ...                  ...                         ...   \n",
       "42925    OSM  POI_1003_3740962178                         NaN   \n",
       "42926    OSM  POI_1003_3740962179                         NaN   \n",
       "42927    OSM  POI_1003_3740962181                         NaN   \n",
       "42928    OSM  POI_1003_3742106925       Soudhamani Estate NSB   \n",
       "42929    OSM  POI_1003_3742207976                         NaN   \n",
       "\n",
       "                             poi_type        lat       long address  \\\n",
       "0                    shop.food.bakery  13.049754  77.492895     NaN   \n",
       "1                     food.restaurant  12.939213  77.694701     NaN   \n",
       "2                                 NaN  12.940448  77.693816     NaN   \n",
       "3                                 NaN  12.939450  77.695305     NaN   \n",
       "4      health.wellbeing.swimming_pool  12.940660  77.693607     NaN   \n",
       "...                               ...        ...        ...     ...   \n",
       "42925                             NaN  12.976237  77.611640     NaN   \n",
       "42926                             NaN  12.976275  77.611514     NaN   \n",
       "42927                             NaN  12.976317  77.611396     NaN   \n",
       "42928                             NaN  12.821388  77.511637     NaN   \n",
       "42929                             NaN  13.068317  77.615481     NaN   \n",
       "\n",
       "            city      state country pin_code brand         H3_index  \\\n",
       "0      Bangalore  Karnataka   India      NaN   NaN  876014598ffffff   \n",
       "1      Bangalore  Karnataka   India      NaN   NaN  876189209ffffff   \n",
       "2      Bangalore  Karnataka   India      NaN   NaN  876189209ffffff   \n",
       "3      Bangalore  Karnataka   India      NaN   NaN  876189209ffffff   \n",
       "4      Bangalore  Karnataka   India      NaN   NaN  876189209ffffff   \n",
       "...          ...        ...     ...      ...   ...              ...   \n",
       "42925  Bangalore  Karnataka   India      NaN   NaN  8761892e9ffffff   \n",
       "42926  Bangalore  Karnataka   India      NaN   NaN  8761892e9ffffff   \n",
       "42927  Bangalore  Karnataka   India      NaN   NaN  8761892e9ffffff   \n",
       "42928  Bangalore  Karnataka   India   560082   NaN  876014531ffffff   \n",
       "42929  Bangalore  Karnataka   India   560064   NaN  8761892caffffff   \n",
       "\n",
       "             H3_parent  \n",
       "0      86601459fffffff  \n",
       "1      86618920fffffff  \n",
       "2      86618920fffffff  \n",
       "3      86618920fffffff  \n",
       "4      86618920fffffff  \n",
       "...                ...  \n",
       "42925  8661892efffffff  \n",
       "42926  8661892efffffff  \n",
       "42927  8661892efffffff  \n",
       "42928  866014537ffffff  \n",
       "42929  8661892cfffffff  \n",
       "\n",
       "[42930 rows x 14 columns]"
      ]
     },
     "execution_count": 35,
     "metadata": {},
     "output_type": "execute_result"
    }
   ],
   "source": [
    "df['H3_parent'] = df.apply(lambda x:h3.h3_to_parent(x.H3_index),axis=1)\n",
    "df"
   ]
  },
  {
   "cell_type": "markdown",
   "metadata": {},
   "source": [
    "## Top 15 occuring h3_indexes in the dataset"
   ]
  },
  {
   "cell_type": "code",
   "execution_count": 43,
   "metadata": {},
   "outputs": [
    {
     "data": {
      "text/plain": [
       "8761892ecffffff    1798\n",
       "8761892edffffff    1486\n",
       "8761892ebffffff    1178\n",
       "87608b015ffffff     980\n",
       "876189253ffffff     955\n",
       "87618925affffff     878\n",
       "8760145b3ffffff     795\n",
       "87608b550ffffff     682\n",
       "87618925bffffff     661\n",
       "87618925cffffff     655\n",
       "8760145b4ffffff     654\n",
       "8761892e9ffffff     627\n",
       "87608b543ffffff     619\n",
       "8761892ceffffff     609\n",
       "87608b016ffffff     605\n",
       "Name: H3_index, dtype: int64"
      ]
     },
     "execution_count": 43,
     "metadata": {},
     "output_type": "execute_result"
    }
   ],
   "source": [
    "df.H3_index.value_counts()[:15]"
   ]
  },
  {
   "cell_type": "markdown",
   "metadata": {},
   "source": [
    "## Adding column block number to the dataset so records having same h3_indexes thus in the same localities"
   ]
  },
  {
   "cell_type": "code",
   "execution_count": 44,
   "metadata": {},
   "outputs": [
    {
     "data": {
      "text/html": [
       "<div>\n",
       "<style scoped>\n",
       "    .dataframe tbody tr th:only-of-type {\n",
       "        vertical-align: middle;\n",
       "    }\n",
       "\n",
       "    .dataframe tbody tr th {\n",
       "        vertical-align: top;\n",
       "    }\n",
       "\n",
       "    .dataframe thead th {\n",
       "        text-align: right;\n",
       "    }\n",
       "</style>\n",
       "<table border=\"1\" class=\"dataframe\">\n",
       "  <thead>\n",
       "    <tr style=\"text-align: right;\">\n",
       "      <th></th>\n",
       "      <th>source</th>\n",
       "      <th>poi_code</th>\n",
       "      <th>name</th>\n",
       "      <th>poi_type</th>\n",
       "      <th>lat</th>\n",
       "      <th>long</th>\n",
       "      <th>address</th>\n",
       "      <th>city</th>\n",
       "      <th>state</th>\n",
       "      <th>country</th>\n",
       "      <th>pin_code</th>\n",
       "      <th>brand</th>\n",
       "      <th>H3_index</th>\n",
       "      <th>H3_parent</th>\n",
       "      <th>block_no</th>\n",
       "    </tr>\n",
       "  </thead>\n",
       "  <tbody>\n",
       "    <tr>\n",
       "      <th>0</th>\n",
       "      <td>OSM</td>\n",
       "      <td>POI_1003_6612393918</td>\n",
       "      <td>Parle</td>\n",
       "      <td>shop.food.bakery</td>\n",
       "      <td>13.049754</td>\n",
       "      <td>77.492895</td>\n",
       "      <td>NaN</td>\n",
       "      <td>Bangalore</td>\n",
       "      <td>Karnataka</td>\n",
       "      <td>India</td>\n",
       "      <td>NaN</td>\n",
       "      <td>NaN</td>\n",
       "      <td>876014598ffffff</td>\n",
       "      <td>86601459fffffff</td>\n",
       "      <td>99</td>\n",
       "    </tr>\n",
       "    <tr>\n",
       "      <th>1</th>\n",
       "      <td>OSM</td>\n",
       "      <td>POI_1003_6613030600</td>\n",
       "      <td>The Black Pearl</td>\n",
       "      <td>food.restaurant</td>\n",
       "      <td>12.939213</td>\n",
       "      <td>77.694701</td>\n",
       "      <td>NaN</td>\n",
       "      <td>Bangalore</td>\n",
       "      <td>Karnataka</td>\n",
       "      <td>India</td>\n",
       "      <td>NaN</td>\n",
       "      <td>NaN</td>\n",
       "      <td>876189209ffffff</td>\n",
       "      <td>86618920fffffff</td>\n",
       "      <td>348</td>\n",
       "    </tr>\n",
       "    <tr>\n",
       "      <th>2</th>\n",
       "      <td>OSM</td>\n",
       "      <td>POI_1003_4668296373</td>\n",
       "      <td>Temple</td>\n",
       "      <td>NaN</td>\n",
       "      <td>12.940448</td>\n",
       "      <td>77.693816</td>\n",
       "      <td>NaN</td>\n",
       "      <td>Bangalore</td>\n",
       "      <td>Karnataka</td>\n",
       "      <td>India</td>\n",
       "      <td>NaN</td>\n",
       "      <td>NaN</td>\n",
       "      <td>876189209ffffff</td>\n",
       "      <td>86618920fffffff</td>\n",
       "      <td>348</td>\n",
       "    </tr>\n",
       "    <tr>\n",
       "      <th>3</th>\n",
       "      <td>OSM</td>\n",
       "      <td>POI_1003_3771995983</td>\n",
       "      <td>Kadubeesanahalli Underpass</td>\n",
       "      <td>NaN</td>\n",
       "      <td>12.939450</td>\n",
       "      <td>77.695305</td>\n",
       "      <td>NaN</td>\n",
       "      <td>Bangalore</td>\n",
       "      <td>Karnataka</td>\n",
       "      <td>India</td>\n",
       "      <td>NaN</td>\n",
       "      <td>NaN</td>\n",
       "      <td>876189209ffffff</td>\n",
       "      <td>86618920fffffff</td>\n",
       "      <td>348</td>\n",
       "    </tr>\n",
       "    <tr>\n",
       "      <th>4</th>\n",
       "      <td>OSM</td>\n",
       "      <td>POI_1003_2413350412</td>\n",
       "      <td>NaN</td>\n",
       "      <td>health.wellbeing.swimming_pool</td>\n",
       "      <td>12.940660</td>\n",
       "      <td>77.693607</td>\n",
       "      <td>NaN</td>\n",
       "      <td>Bangalore</td>\n",
       "      <td>Karnataka</td>\n",
       "      <td>India</td>\n",
       "      <td>NaN</td>\n",
       "      <td>NaN</td>\n",
       "      <td>876189209ffffff</td>\n",
       "      <td>86618920fffffff</td>\n",
       "      <td>348</td>\n",
       "    </tr>\n",
       "    <tr>\n",
       "      <th>...</th>\n",
       "      <td>...</td>\n",
       "      <td>...</td>\n",
       "      <td>...</td>\n",
       "      <td>...</td>\n",
       "      <td>...</td>\n",
       "      <td>...</td>\n",
       "      <td>...</td>\n",
       "      <td>...</td>\n",
       "      <td>...</td>\n",
       "      <td>...</td>\n",
       "      <td>...</td>\n",
       "      <td>...</td>\n",
       "      <td>...</td>\n",
       "      <td>...</td>\n",
       "      <td>...</td>\n",
       "    </tr>\n",
       "    <tr>\n",
       "      <th>42925</th>\n",
       "      <td>OSM</td>\n",
       "      <td>POI_1003_3740962178</td>\n",
       "      <td>NaN</td>\n",
       "      <td>NaN</td>\n",
       "      <td>12.976237</td>\n",
       "      <td>77.611640</td>\n",
       "      <td>NaN</td>\n",
       "      <td>Bangalore</td>\n",
       "      <td>Karnataka</td>\n",
       "      <td>India</td>\n",
       "      <td>NaN</td>\n",
       "      <td>NaN</td>\n",
       "      <td>8761892e9ffffff</td>\n",
       "      <td>8661892efffffff</td>\n",
       "      <td>464</td>\n",
       "    </tr>\n",
       "    <tr>\n",
       "      <th>42926</th>\n",
       "      <td>OSM</td>\n",
       "      <td>POI_1003_3740962179</td>\n",
       "      <td>NaN</td>\n",
       "      <td>NaN</td>\n",
       "      <td>12.976275</td>\n",
       "      <td>77.611514</td>\n",
       "      <td>NaN</td>\n",
       "      <td>Bangalore</td>\n",
       "      <td>Karnataka</td>\n",
       "      <td>India</td>\n",
       "      <td>NaN</td>\n",
       "      <td>NaN</td>\n",
       "      <td>8761892e9ffffff</td>\n",
       "      <td>8661892efffffff</td>\n",
       "      <td>464</td>\n",
       "    </tr>\n",
       "    <tr>\n",
       "      <th>42927</th>\n",
       "      <td>OSM</td>\n",
       "      <td>POI_1003_3740962181</td>\n",
       "      <td>NaN</td>\n",
       "      <td>NaN</td>\n",
       "      <td>12.976317</td>\n",
       "      <td>77.611396</td>\n",
       "      <td>NaN</td>\n",
       "      <td>Bangalore</td>\n",
       "      <td>Karnataka</td>\n",
       "      <td>India</td>\n",
       "      <td>NaN</td>\n",
       "      <td>NaN</td>\n",
       "      <td>8761892e9ffffff</td>\n",
       "      <td>8661892efffffff</td>\n",
       "      <td>464</td>\n",
       "    </tr>\n",
       "    <tr>\n",
       "      <th>42928</th>\n",
       "      <td>OSM</td>\n",
       "      <td>POI_1003_3742106925</td>\n",
       "      <td>Soudhamani Estate NSB</td>\n",
       "      <td>NaN</td>\n",
       "      <td>12.821388</td>\n",
       "      <td>77.511637</td>\n",
       "      <td>NaN</td>\n",
       "      <td>Bangalore</td>\n",
       "      <td>Karnataka</td>\n",
       "      <td>India</td>\n",
       "      <td>560082</td>\n",
       "      <td>NaN</td>\n",
       "      <td>876014531ffffff</td>\n",
       "      <td>866014537ffffff</td>\n",
       "      <td>72</td>\n",
       "    </tr>\n",
       "    <tr>\n",
       "      <th>42929</th>\n",
       "      <td>OSM</td>\n",
       "      <td>POI_1003_3742207976</td>\n",
       "      <td>NaN</td>\n",
       "      <td>NaN</td>\n",
       "      <td>13.068317</td>\n",
       "      <td>77.615481</td>\n",
       "      <td>NaN</td>\n",
       "      <td>Bangalore</td>\n",
       "      <td>Karnataka</td>\n",
       "      <td>India</td>\n",
       "      <td>560064</td>\n",
       "      <td>NaN</td>\n",
       "      <td>8761892caffffff</td>\n",
       "      <td>8661892cfffffff</td>\n",
       "      <td>438</td>\n",
       "    </tr>\n",
       "  </tbody>\n",
       "</table>\n",
       "<p>42930 rows × 15 columns</p>\n",
       "</div>"
      ],
      "text/plain": [
       "      source             poi_code                        name  \\\n",
       "0        OSM  POI_1003_6612393918                       Parle   \n",
       "1        OSM  POI_1003_6613030600             The Black Pearl   \n",
       "2        OSM  POI_1003_4668296373                      Temple   \n",
       "3        OSM  POI_1003_3771995983  Kadubeesanahalli Underpass   \n",
       "4        OSM  POI_1003_2413350412                         NaN   \n",
       "...      ...                  ...                         ...   \n",
       "42925    OSM  POI_1003_3740962178                         NaN   \n",
       "42926    OSM  POI_1003_3740962179                         NaN   \n",
       "42927    OSM  POI_1003_3740962181                         NaN   \n",
       "42928    OSM  POI_1003_3742106925       Soudhamani Estate NSB   \n",
       "42929    OSM  POI_1003_3742207976                         NaN   \n",
       "\n",
       "                             poi_type        lat       long address  \\\n",
       "0                    shop.food.bakery  13.049754  77.492895     NaN   \n",
       "1                     food.restaurant  12.939213  77.694701     NaN   \n",
       "2                                 NaN  12.940448  77.693816     NaN   \n",
       "3                                 NaN  12.939450  77.695305     NaN   \n",
       "4      health.wellbeing.swimming_pool  12.940660  77.693607     NaN   \n",
       "...                               ...        ...        ...     ...   \n",
       "42925                             NaN  12.976237  77.611640     NaN   \n",
       "42926                             NaN  12.976275  77.611514     NaN   \n",
       "42927                             NaN  12.976317  77.611396     NaN   \n",
       "42928                             NaN  12.821388  77.511637     NaN   \n",
       "42929                             NaN  13.068317  77.615481     NaN   \n",
       "\n",
       "            city      state country pin_code brand         H3_index  \\\n",
       "0      Bangalore  Karnataka   India      NaN   NaN  876014598ffffff   \n",
       "1      Bangalore  Karnataka   India      NaN   NaN  876189209ffffff   \n",
       "2      Bangalore  Karnataka   India      NaN   NaN  876189209ffffff   \n",
       "3      Bangalore  Karnataka   India      NaN   NaN  876189209ffffff   \n",
       "4      Bangalore  Karnataka   India      NaN   NaN  876189209ffffff   \n",
       "...          ...        ...     ...      ...   ...              ...   \n",
       "42925  Bangalore  Karnataka   India      NaN   NaN  8761892e9ffffff   \n",
       "42926  Bangalore  Karnataka   India      NaN   NaN  8761892e9ffffff   \n",
       "42927  Bangalore  Karnataka   India      NaN   NaN  8761892e9ffffff   \n",
       "42928  Bangalore  Karnataka   India   560082   NaN  876014531ffffff   \n",
       "42929  Bangalore  Karnataka   India   560064   NaN  8761892caffffff   \n",
       "\n",
       "             H3_parent  block_no  \n",
       "0      86601459fffffff        99  \n",
       "1      86618920fffffff       348  \n",
       "2      86618920fffffff       348  \n",
       "3      86618920fffffff       348  \n",
       "4      86618920fffffff       348  \n",
       "...                ...       ...  \n",
       "42925  8661892efffffff       464  \n",
       "42926  8661892efffffff       464  \n",
       "42927  8661892efffffff       464  \n",
       "42928  866014537ffffff        72  \n",
       "42929  8661892cfffffff       438  \n",
       "\n",
       "[42930 rows x 15 columns]"
      ]
     },
     "execution_count": 44,
     "metadata": {},
     "output_type": "execute_result"
    }
   ],
   "source": [
    "df['block_no'] = df.groupby(['H3_index']).ngroup()\n",
    "df"
   ]
  },
  {
   "cell_type": "markdown",
   "metadata": {},
   "source": [
    "## Handling Missing Values: From EDA it is evident that categorical features only have missing values so we will handle it using by adding new category \"Missing\""
   ]
  },
  {
   "cell_type": "code",
   "execution_count": 45,
   "metadata": {},
   "outputs": [],
   "source": [
    "#function to handle missing values after passing certain dataframe and feature name\n",
    "def impute_nan(df,variable):\n",
    "    \"\"\"\n",
    "                                Method Name: impute_nan\n",
    "                                Description: handles missing values after we provide a dataframe and feature column\n",
    "                                Outcome: we get a feature values without any missing values\n",
    "                            \n",
    "\n",
    "                                Written By: Saurabh Naik\n",
    "                                Version: 1.0\n",
    "                                Revisions: None\n",
    "        \"\"\"\n",
    "    df[\"new_\"+variable]=np.where(df[variable].isnull(),\"Missing\",df[variable])"
   ]
  },
  {
   "cell_type": "code",
   "execution_count": 46,
   "metadata": {},
   "outputs": [
    {
     "data": {
      "text/html": [
       "<div>\n",
       "<style scoped>\n",
       "    .dataframe tbody tr th:only-of-type {\n",
       "        vertical-align: middle;\n",
       "    }\n",
       "\n",
       "    .dataframe tbody tr th {\n",
       "        vertical-align: top;\n",
       "    }\n",
       "\n",
       "    .dataframe thead th {\n",
       "        text-align: right;\n",
       "    }\n",
       "</style>\n",
       "<table border=\"1\" class=\"dataframe\">\n",
       "  <thead>\n",
       "    <tr style=\"text-align: right;\">\n",
       "      <th></th>\n",
       "      <th>source</th>\n",
       "      <th>poi_code</th>\n",
       "      <th>name</th>\n",
       "      <th>poi_type</th>\n",
       "      <th>lat</th>\n",
       "      <th>long</th>\n",
       "      <th>address</th>\n",
       "      <th>city</th>\n",
       "      <th>state</th>\n",
       "      <th>country</th>\n",
       "      <th>pin_code</th>\n",
       "      <th>brand</th>\n",
       "      <th>H3_index</th>\n",
       "      <th>H3_parent</th>\n",
       "      <th>block_no</th>\n",
       "      <th>new_name</th>\n",
       "      <th>new_poi_type</th>\n",
       "      <th>new_address</th>\n",
       "      <th>new_pin_code</th>\n",
       "      <th>new_brand</th>\n",
       "    </tr>\n",
       "  </thead>\n",
       "  <tbody>\n",
       "    <tr>\n",
       "      <th>0</th>\n",
       "      <td>OSM</td>\n",
       "      <td>POI_1003_6612393918</td>\n",
       "      <td>Parle</td>\n",
       "      <td>shop.food.bakery</td>\n",
       "      <td>13.049754</td>\n",
       "      <td>77.492895</td>\n",
       "      <td>NaN</td>\n",
       "      <td>Bangalore</td>\n",
       "      <td>Karnataka</td>\n",
       "      <td>India</td>\n",
       "      <td>NaN</td>\n",
       "      <td>NaN</td>\n",
       "      <td>876014598ffffff</td>\n",
       "      <td>86601459fffffff</td>\n",
       "      <td>99</td>\n",
       "      <td>Parle</td>\n",
       "      <td>shop.food.bakery</td>\n",
       "      <td>Missing</td>\n",
       "      <td>Missing</td>\n",
       "      <td>Missing</td>\n",
       "    </tr>\n",
       "    <tr>\n",
       "      <th>1</th>\n",
       "      <td>OSM</td>\n",
       "      <td>POI_1003_6613030600</td>\n",
       "      <td>The Black Pearl</td>\n",
       "      <td>food.restaurant</td>\n",
       "      <td>12.939213</td>\n",
       "      <td>77.694701</td>\n",
       "      <td>NaN</td>\n",
       "      <td>Bangalore</td>\n",
       "      <td>Karnataka</td>\n",
       "      <td>India</td>\n",
       "      <td>NaN</td>\n",
       "      <td>NaN</td>\n",
       "      <td>876189209ffffff</td>\n",
       "      <td>86618920fffffff</td>\n",
       "      <td>348</td>\n",
       "      <td>The Black Pearl</td>\n",
       "      <td>food.restaurant</td>\n",
       "      <td>Missing</td>\n",
       "      <td>Missing</td>\n",
       "      <td>Missing</td>\n",
       "    </tr>\n",
       "    <tr>\n",
       "      <th>2</th>\n",
       "      <td>OSM</td>\n",
       "      <td>POI_1003_4668296373</td>\n",
       "      <td>Temple</td>\n",
       "      <td>NaN</td>\n",
       "      <td>12.940448</td>\n",
       "      <td>77.693816</td>\n",
       "      <td>NaN</td>\n",
       "      <td>Bangalore</td>\n",
       "      <td>Karnataka</td>\n",
       "      <td>India</td>\n",
       "      <td>NaN</td>\n",
       "      <td>NaN</td>\n",
       "      <td>876189209ffffff</td>\n",
       "      <td>86618920fffffff</td>\n",
       "      <td>348</td>\n",
       "      <td>Temple</td>\n",
       "      <td>Missing</td>\n",
       "      <td>Missing</td>\n",
       "      <td>Missing</td>\n",
       "      <td>Missing</td>\n",
       "    </tr>\n",
       "    <tr>\n",
       "      <th>3</th>\n",
       "      <td>OSM</td>\n",
       "      <td>POI_1003_3771995983</td>\n",
       "      <td>Kadubeesanahalli Underpass</td>\n",
       "      <td>NaN</td>\n",
       "      <td>12.939450</td>\n",
       "      <td>77.695305</td>\n",
       "      <td>NaN</td>\n",
       "      <td>Bangalore</td>\n",
       "      <td>Karnataka</td>\n",
       "      <td>India</td>\n",
       "      <td>NaN</td>\n",
       "      <td>NaN</td>\n",
       "      <td>876189209ffffff</td>\n",
       "      <td>86618920fffffff</td>\n",
       "      <td>348</td>\n",
       "      <td>Kadubeesanahalli Underpass</td>\n",
       "      <td>Missing</td>\n",
       "      <td>Missing</td>\n",
       "      <td>Missing</td>\n",
       "      <td>Missing</td>\n",
       "    </tr>\n",
       "    <tr>\n",
       "      <th>4</th>\n",
       "      <td>OSM</td>\n",
       "      <td>POI_1003_2413350412</td>\n",
       "      <td>NaN</td>\n",
       "      <td>health.wellbeing.swimming_pool</td>\n",
       "      <td>12.940660</td>\n",
       "      <td>77.693607</td>\n",
       "      <td>NaN</td>\n",
       "      <td>Bangalore</td>\n",
       "      <td>Karnataka</td>\n",
       "      <td>India</td>\n",
       "      <td>NaN</td>\n",
       "      <td>NaN</td>\n",
       "      <td>876189209ffffff</td>\n",
       "      <td>86618920fffffff</td>\n",
       "      <td>348</td>\n",
       "      <td>Missing</td>\n",
       "      <td>health.wellbeing.swimming_pool</td>\n",
       "      <td>Missing</td>\n",
       "      <td>Missing</td>\n",
       "      <td>Missing</td>\n",
       "    </tr>\n",
       "  </tbody>\n",
       "</table>\n",
       "</div>"
      ],
      "text/plain": [
       "  source             poi_code                        name  \\\n",
       "0    OSM  POI_1003_6612393918                       Parle   \n",
       "1    OSM  POI_1003_6613030600             The Black Pearl   \n",
       "2    OSM  POI_1003_4668296373                      Temple   \n",
       "3    OSM  POI_1003_3771995983  Kadubeesanahalli Underpass   \n",
       "4    OSM  POI_1003_2413350412                         NaN   \n",
       "\n",
       "                         poi_type        lat       long address       city  \\\n",
       "0                shop.food.bakery  13.049754  77.492895     NaN  Bangalore   \n",
       "1                 food.restaurant  12.939213  77.694701     NaN  Bangalore   \n",
       "2                             NaN  12.940448  77.693816     NaN  Bangalore   \n",
       "3                             NaN  12.939450  77.695305     NaN  Bangalore   \n",
       "4  health.wellbeing.swimming_pool  12.940660  77.693607     NaN  Bangalore   \n",
       "\n",
       "       state country pin_code brand         H3_index        H3_parent  \\\n",
       "0  Karnataka   India      NaN   NaN  876014598ffffff  86601459fffffff   \n",
       "1  Karnataka   India      NaN   NaN  876189209ffffff  86618920fffffff   \n",
       "2  Karnataka   India      NaN   NaN  876189209ffffff  86618920fffffff   \n",
       "3  Karnataka   India      NaN   NaN  876189209ffffff  86618920fffffff   \n",
       "4  Karnataka   India      NaN   NaN  876189209ffffff  86618920fffffff   \n",
       "\n",
       "   block_no                    new_name                    new_poi_type  \\\n",
       "0        99                       Parle                shop.food.bakery   \n",
       "1       348             The Black Pearl                 food.restaurant   \n",
       "2       348                      Temple                         Missing   \n",
       "3       348  Kadubeesanahalli Underpass                         Missing   \n",
       "4       348                     Missing  health.wellbeing.swimming_pool   \n",
       "\n",
       "  new_address new_pin_code new_brand  \n",
       "0     Missing      Missing   Missing  \n",
       "1     Missing      Missing   Missing  \n",
       "2     Missing      Missing   Missing  \n",
       "3     Missing      Missing   Missing  \n",
       "4     Missing      Missing   Missing  "
      ]
     },
     "execution_count": 46,
     "metadata": {},
     "output_type": "execute_result"
    }
   ],
   "source": [
    "features_with_missing_values=[feature for feature in df.columns if df[feature].isnull().sum()>0]\n",
    "for feature in features_with_missing_values:\n",
    "    impute_nan(df,feature)\n",
    "df.head()"
   ]
  },
  {
   "cell_type": "markdown",
   "metadata": {},
   "source": [
    "## Droping old features having missing values"
   ]
  },
  {
   "cell_type": "code",
   "execution_count": 47,
   "metadata": {},
   "outputs": [],
   "source": [
    "df.drop(features_with_missing_values,axis=1,inplace=True)"
   ]
  },
  {
   "cell_type": "markdown",
   "metadata": {},
   "source": [
    "## Checking if missing values are present in the dataframe after handling that"
   ]
  },
  {
   "cell_type": "code",
   "execution_count": 48,
   "metadata": {},
   "outputs": [
    {
     "data": {
      "text/plain": [
       "0"
      ]
     },
     "execution_count": 48,
     "metadata": {},
     "output_type": "execute_result"
    }
   ],
   "source": [
    "len([feature for feature in df.columns if df[feature].isnull().sum()>0])"
   ]
  },
  {
   "cell_type": "code",
   "execution_count": 49,
   "metadata": {},
   "outputs": [
    {
     "data": {
      "text/html": [
       "<div>\n",
       "<style scoped>\n",
       "    .dataframe tbody tr th:only-of-type {\n",
       "        vertical-align: middle;\n",
       "    }\n",
       "\n",
       "    .dataframe tbody tr th {\n",
       "        vertical-align: top;\n",
       "    }\n",
       "\n",
       "    .dataframe thead th {\n",
       "        text-align: right;\n",
       "    }\n",
       "</style>\n",
       "<table border=\"1\" class=\"dataframe\">\n",
       "  <thead>\n",
       "    <tr style=\"text-align: right;\">\n",
       "      <th></th>\n",
       "      <th>source</th>\n",
       "      <th>poi_code</th>\n",
       "      <th>lat</th>\n",
       "      <th>long</th>\n",
       "      <th>city</th>\n",
       "      <th>state</th>\n",
       "      <th>country</th>\n",
       "      <th>H3_index</th>\n",
       "      <th>H3_parent</th>\n",
       "      <th>block_no</th>\n",
       "      <th>new_name</th>\n",
       "      <th>new_poi_type</th>\n",
       "      <th>new_address</th>\n",
       "      <th>new_pin_code</th>\n",
       "      <th>new_brand</th>\n",
       "    </tr>\n",
       "  </thead>\n",
       "  <tbody>\n",
       "    <tr>\n",
       "      <th>0</th>\n",
       "      <td>OSM</td>\n",
       "      <td>POI_1003_6612393918</td>\n",
       "      <td>13.049754</td>\n",
       "      <td>77.492895</td>\n",
       "      <td>Bangalore</td>\n",
       "      <td>Karnataka</td>\n",
       "      <td>India</td>\n",
       "      <td>876014598ffffff</td>\n",
       "      <td>86601459fffffff</td>\n",
       "      <td>99</td>\n",
       "      <td>Parle</td>\n",
       "      <td>shop.food.bakery</td>\n",
       "      <td>Missing</td>\n",
       "      <td>Missing</td>\n",
       "      <td>Missing</td>\n",
       "    </tr>\n",
       "    <tr>\n",
       "      <th>1</th>\n",
       "      <td>OSM</td>\n",
       "      <td>POI_1003_6613030600</td>\n",
       "      <td>12.939213</td>\n",
       "      <td>77.694701</td>\n",
       "      <td>Bangalore</td>\n",
       "      <td>Karnataka</td>\n",
       "      <td>India</td>\n",
       "      <td>876189209ffffff</td>\n",
       "      <td>86618920fffffff</td>\n",
       "      <td>348</td>\n",
       "      <td>The Black Pearl</td>\n",
       "      <td>food.restaurant</td>\n",
       "      <td>Missing</td>\n",
       "      <td>Missing</td>\n",
       "      <td>Missing</td>\n",
       "    </tr>\n",
       "    <tr>\n",
       "      <th>2</th>\n",
       "      <td>OSM</td>\n",
       "      <td>POI_1003_4668296373</td>\n",
       "      <td>12.940448</td>\n",
       "      <td>77.693816</td>\n",
       "      <td>Bangalore</td>\n",
       "      <td>Karnataka</td>\n",
       "      <td>India</td>\n",
       "      <td>876189209ffffff</td>\n",
       "      <td>86618920fffffff</td>\n",
       "      <td>348</td>\n",
       "      <td>Temple</td>\n",
       "      <td>Missing</td>\n",
       "      <td>Missing</td>\n",
       "      <td>Missing</td>\n",
       "      <td>Missing</td>\n",
       "    </tr>\n",
       "    <tr>\n",
       "      <th>3</th>\n",
       "      <td>OSM</td>\n",
       "      <td>POI_1003_3771995983</td>\n",
       "      <td>12.939450</td>\n",
       "      <td>77.695305</td>\n",
       "      <td>Bangalore</td>\n",
       "      <td>Karnataka</td>\n",
       "      <td>India</td>\n",
       "      <td>876189209ffffff</td>\n",
       "      <td>86618920fffffff</td>\n",
       "      <td>348</td>\n",
       "      <td>Kadubeesanahalli Underpass</td>\n",
       "      <td>Missing</td>\n",
       "      <td>Missing</td>\n",
       "      <td>Missing</td>\n",
       "      <td>Missing</td>\n",
       "    </tr>\n",
       "    <tr>\n",
       "      <th>4</th>\n",
       "      <td>OSM</td>\n",
       "      <td>POI_1003_2413350412</td>\n",
       "      <td>12.940660</td>\n",
       "      <td>77.693607</td>\n",
       "      <td>Bangalore</td>\n",
       "      <td>Karnataka</td>\n",
       "      <td>India</td>\n",
       "      <td>876189209ffffff</td>\n",
       "      <td>86618920fffffff</td>\n",
       "      <td>348</td>\n",
       "      <td>Missing</td>\n",
       "      <td>health.wellbeing.swimming_pool</td>\n",
       "      <td>Missing</td>\n",
       "      <td>Missing</td>\n",
       "      <td>Missing</td>\n",
       "    </tr>\n",
       "    <tr>\n",
       "      <th>...</th>\n",
       "      <td>...</td>\n",
       "      <td>...</td>\n",
       "      <td>...</td>\n",
       "      <td>...</td>\n",
       "      <td>...</td>\n",
       "      <td>...</td>\n",
       "      <td>...</td>\n",
       "      <td>...</td>\n",
       "      <td>...</td>\n",
       "      <td>...</td>\n",
       "      <td>...</td>\n",
       "      <td>...</td>\n",
       "      <td>...</td>\n",
       "      <td>...</td>\n",
       "      <td>...</td>\n",
       "    </tr>\n",
       "    <tr>\n",
       "      <th>42925</th>\n",
       "      <td>OSM</td>\n",
       "      <td>POI_1003_3740962178</td>\n",
       "      <td>12.976237</td>\n",
       "      <td>77.611640</td>\n",
       "      <td>Bangalore</td>\n",
       "      <td>Karnataka</td>\n",
       "      <td>India</td>\n",
       "      <td>8761892e9ffffff</td>\n",
       "      <td>8661892efffffff</td>\n",
       "      <td>464</td>\n",
       "      <td>Missing</td>\n",
       "      <td>Missing</td>\n",
       "      <td>Missing</td>\n",
       "      <td>Missing</td>\n",
       "      <td>Missing</td>\n",
       "    </tr>\n",
       "    <tr>\n",
       "      <th>42926</th>\n",
       "      <td>OSM</td>\n",
       "      <td>POI_1003_3740962179</td>\n",
       "      <td>12.976275</td>\n",
       "      <td>77.611514</td>\n",
       "      <td>Bangalore</td>\n",
       "      <td>Karnataka</td>\n",
       "      <td>India</td>\n",
       "      <td>8761892e9ffffff</td>\n",
       "      <td>8661892efffffff</td>\n",
       "      <td>464</td>\n",
       "      <td>Missing</td>\n",
       "      <td>Missing</td>\n",
       "      <td>Missing</td>\n",
       "      <td>Missing</td>\n",
       "      <td>Missing</td>\n",
       "    </tr>\n",
       "    <tr>\n",
       "      <th>42927</th>\n",
       "      <td>OSM</td>\n",
       "      <td>POI_1003_3740962181</td>\n",
       "      <td>12.976317</td>\n",
       "      <td>77.611396</td>\n",
       "      <td>Bangalore</td>\n",
       "      <td>Karnataka</td>\n",
       "      <td>India</td>\n",
       "      <td>8761892e9ffffff</td>\n",
       "      <td>8661892efffffff</td>\n",
       "      <td>464</td>\n",
       "      <td>Missing</td>\n",
       "      <td>Missing</td>\n",
       "      <td>Missing</td>\n",
       "      <td>Missing</td>\n",
       "      <td>Missing</td>\n",
       "    </tr>\n",
       "    <tr>\n",
       "      <th>42928</th>\n",
       "      <td>OSM</td>\n",
       "      <td>POI_1003_3742106925</td>\n",
       "      <td>12.821388</td>\n",
       "      <td>77.511637</td>\n",
       "      <td>Bangalore</td>\n",
       "      <td>Karnataka</td>\n",
       "      <td>India</td>\n",
       "      <td>876014531ffffff</td>\n",
       "      <td>866014537ffffff</td>\n",
       "      <td>72</td>\n",
       "      <td>Soudhamani Estate NSB</td>\n",
       "      <td>Missing</td>\n",
       "      <td>Missing</td>\n",
       "      <td>560082</td>\n",
       "      <td>Missing</td>\n",
       "    </tr>\n",
       "    <tr>\n",
       "      <th>42929</th>\n",
       "      <td>OSM</td>\n",
       "      <td>POI_1003_3742207976</td>\n",
       "      <td>13.068317</td>\n",
       "      <td>77.615481</td>\n",
       "      <td>Bangalore</td>\n",
       "      <td>Karnataka</td>\n",
       "      <td>India</td>\n",
       "      <td>8761892caffffff</td>\n",
       "      <td>8661892cfffffff</td>\n",
       "      <td>438</td>\n",
       "      <td>Missing</td>\n",
       "      <td>Missing</td>\n",
       "      <td>Missing</td>\n",
       "      <td>560064</td>\n",
       "      <td>Missing</td>\n",
       "    </tr>\n",
       "  </tbody>\n",
       "</table>\n",
       "<p>42930 rows × 15 columns</p>\n",
       "</div>"
      ],
      "text/plain": [
       "      source             poi_code        lat       long       city      state  \\\n",
       "0        OSM  POI_1003_6612393918  13.049754  77.492895  Bangalore  Karnataka   \n",
       "1        OSM  POI_1003_6613030600  12.939213  77.694701  Bangalore  Karnataka   \n",
       "2        OSM  POI_1003_4668296373  12.940448  77.693816  Bangalore  Karnataka   \n",
       "3        OSM  POI_1003_3771995983  12.939450  77.695305  Bangalore  Karnataka   \n",
       "4        OSM  POI_1003_2413350412  12.940660  77.693607  Bangalore  Karnataka   \n",
       "...      ...                  ...        ...        ...        ...        ...   \n",
       "42925    OSM  POI_1003_3740962178  12.976237  77.611640  Bangalore  Karnataka   \n",
       "42926    OSM  POI_1003_3740962179  12.976275  77.611514  Bangalore  Karnataka   \n",
       "42927    OSM  POI_1003_3740962181  12.976317  77.611396  Bangalore  Karnataka   \n",
       "42928    OSM  POI_1003_3742106925  12.821388  77.511637  Bangalore  Karnataka   \n",
       "42929    OSM  POI_1003_3742207976  13.068317  77.615481  Bangalore  Karnataka   \n",
       "\n",
       "      country         H3_index        H3_parent  block_no  \\\n",
       "0       India  876014598ffffff  86601459fffffff        99   \n",
       "1       India  876189209ffffff  86618920fffffff       348   \n",
       "2       India  876189209ffffff  86618920fffffff       348   \n",
       "3       India  876189209ffffff  86618920fffffff       348   \n",
       "4       India  876189209ffffff  86618920fffffff       348   \n",
       "...       ...              ...              ...       ...   \n",
       "42925   India  8761892e9ffffff  8661892efffffff       464   \n",
       "42926   India  8761892e9ffffff  8661892efffffff       464   \n",
       "42927   India  8761892e9ffffff  8661892efffffff       464   \n",
       "42928   India  876014531ffffff  866014537ffffff        72   \n",
       "42929   India  8761892caffffff  8661892cfffffff       438   \n",
       "\n",
       "                         new_name                    new_poi_type new_address  \\\n",
       "0                           Parle                shop.food.bakery     Missing   \n",
       "1                 The Black Pearl                 food.restaurant     Missing   \n",
       "2                          Temple                         Missing     Missing   \n",
       "3      Kadubeesanahalli Underpass                         Missing     Missing   \n",
       "4                         Missing  health.wellbeing.swimming_pool     Missing   \n",
       "...                           ...                             ...         ...   \n",
       "42925                     Missing                         Missing     Missing   \n",
       "42926                     Missing                         Missing     Missing   \n",
       "42927                     Missing                         Missing     Missing   \n",
       "42928       Soudhamani Estate NSB                         Missing     Missing   \n",
       "42929                     Missing                         Missing     Missing   \n",
       "\n",
       "      new_pin_code new_brand  \n",
       "0          Missing   Missing  \n",
       "1          Missing   Missing  \n",
       "2          Missing   Missing  \n",
       "3          Missing   Missing  \n",
       "4          Missing   Missing  \n",
       "...            ...       ...  \n",
       "42925      Missing   Missing  \n",
       "42926      Missing   Missing  \n",
       "42927      Missing   Missing  \n",
       "42928       560082   Missing  \n",
       "42929       560064   Missing  \n",
       "\n",
       "[42930 rows x 15 columns]"
      ]
     },
     "execution_count": 49,
     "metadata": {},
     "output_type": "execute_result"
    }
   ],
   "source": [
    "df"
   ]
  },
  {
   "cell_type": "markdown",
   "metadata": {},
   "source": [
    "## Finding no of unique categories in each feature"
   ]
  },
  {
   "cell_type": "code",
   "execution_count": 50,
   "metadata": {},
   "outputs": [
    {
     "name": "stdout",
     "output_type": "stream",
     "text": [
      "source :  1  labels\n",
      "poi_code :  42930  labels\n",
      "city :  2  labels\n",
      "state :  2  labels\n",
      "country :  1  labels\n",
      "H3_index :  515  labels\n",
      "H3_parent :  103  labels\n",
      "new_name :  23462  labels\n",
      "new_poi_type :  149  labels\n",
      "new_address :  2425  labels\n",
      "new_pin_code :  314  labels\n",
      "new_brand :  227  labels\n"
     ]
    }
   ],
   "source": [
    "categorical_feature=[feature for feature in df.columns if df[feature].dtype=='O']\n",
    "for col in categorical_feature:\n",
    "    print(col, ': ', len(df[col].unique()), ' labels')"
   ]
  },
  {
   "cell_type": "markdown",
   "metadata": {},
   "source": [
    "## Converting categorical feature into numerical features"
   ]
  },
  {
   "cell_type": "code",
   "execution_count": 51,
   "metadata": {},
   "outputs": [
    {
     "data": {
      "text/html": [
       "<div>\n",
       "<style scoped>\n",
       "    .dataframe tbody tr th:only-of-type {\n",
       "        vertical-align: middle;\n",
       "    }\n",
       "\n",
       "    .dataframe tbody tr th {\n",
       "        vertical-align: top;\n",
       "    }\n",
       "\n",
       "    .dataframe thead th {\n",
       "        text-align: right;\n",
       "    }\n",
       "</style>\n",
       "<table border=\"1\" class=\"dataframe\">\n",
       "  <thead>\n",
       "    <tr style=\"text-align: right;\">\n",
       "      <th></th>\n",
       "      <th>source</th>\n",
       "      <th>poi_code</th>\n",
       "      <th>lat</th>\n",
       "      <th>long</th>\n",
       "      <th>city</th>\n",
       "      <th>state</th>\n",
       "      <th>country</th>\n",
       "      <th>H3_index</th>\n",
       "      <th>H3_parent</th>\n",
       "      <th>block_no</th>\n",
       "      <th>new_name</th>\n",
       "      <th>new_poi_type</th>\n",
       "      <th>new_address</th>\n",
       "      <th>new_pin_code</th>\n",
       "      <th>new_brand</th>\n",
       "    </tr>\n",
       "  </thead>\n",
       "  <tbody>\n",
       "    <tr>\n",
       "      <th>0</th>\n",
       "      <td>42930</td>\n",
       "      <td>1</td>\n",
       "      <td>13.049754</td>\n",
       "      <td>77.492895</td>\n",
       "      <td>30417</td>\n",
       "      <td>30417</td>\n",
       "      <td>42930</td>\n",
       "      <td>11</td>\n",
       "      <td>117</td>\n",
       "      <td>99</td>\n",
       "      <td>1</td>\n",
       "      <td>465</td>\n",
       "      <td>40267</td>\n",
       "      <td>34977</td>\n",
       "      <td>41849</td>\n",
       "    </tr>\n",
       "    <tr>\n",
       "      <th>1</th>\n",
       "      <td>42930</td>\n",
       "      <td>1</td>\n",
       "      <td>12.939213</td>\n",
       "      <td>77.694701</td>\n",
       "      <td>30417</td>\n",
       "      <td>30417</td>\n",
       "      <td>42930</td>\n",
       "      <td>132</td>\n",
       "      <td>979</td>\n",
       "      <td>348</td>\n",
       "      <td>1</td>\n",
       "      <td>2544</td>\n",
       "      <td>40267</td>\n",
       "      <td>34977</td>\n",
       "      <td>41849</td>\n",
       "    </tr>\n",
       "    <tr>\n",
       "      <th>2</th>\n",
       "      <td>42930</td>\n",
       "      <td>1</td>\n",
       "      <td>12.940448</td>\n",
       "      <td>77.693816</td>\n",
       "      <td>30417</td>\n",
       "      <td>30417</td>\n",
       "      <td>42930</td>\n",
       "      <td>132</td>\n",
       "      <td>979</td>\n",
       "      <td>348</td>\n",
       "      <td>46</td>\n",
       "      <td>20529</td>\n",
       "      <td>40267</td>\n",
       "      <td>34977</td>\n",
       "      <td>41849</td>\n",
       "    </tr>\n",
       "    <tr>\n",
       "      <th>3</th>\n",
       "      <td>42930</td>\n",
       "      <td>1</td>\n",
       "      <td>12.939450</td>\n",
       "      <td>77.695305</td>\n",
       "      <td>30417</td>\n",
       "      <td>30417</td>\n",
       "      <td>42930</td>\n",
       "      <td>132</td>\n",
       "      <td>979</td>\n",
       "      <td>348</td>\n",
       "      <td>1</td>\n",
       "      <td>20529</td>\n",
       "      <td>40267</td>\n",
       "      <td>34977</td>\n",
       "      <td>41849</td>\n",
       "    </tr>\n",
       "    <tr>\n",
       "      <th>4</th>\n",
       "      <td>42930</td>\n",
       "      <td>1</td>\n",
       "      <td>12.940660</td>\n",
       "      <td>77.693607</td>\n",
       "      <td>30417</td>\n",
       "      <td>30417</td>\n",
       "      <td>42930</td>\n",
       "      <td>132</td>\n",
       "      <td>979</td>\n",
       "      <td>348</td>\n",
       "      <td>12944</td>\n",
       "      <td>37</td>\n",
       "      <td>40267</td>\n",
       "      <td>34977</td>\n",
       "      <td>41849</td>\n",
       "    </tr>\n",
       "  </tbody>\n",
       "</table>\n",
       "</div>"
      ],
      "text/plain": [
       "   source  poi_code        lat       long   city  state  country  H3_index  \\\n",
       "0   42930         1  13.049754  77.492895  30417  30417    42930        11   \n",
       "1   42930         1  12.939213  77.694701  30417  30417    42930       132   \n",
       "2   42930         1  12.940448  77.693816  30417  30417    42930       132   \n",
       "3   42930         1  12.939450  77.695305  30417  30417    42930       132   \n",
       "4   42930         1  12.940660  77.693607  30417  30417    42930       132   \n",
       "\n",
       "   H3_parent  block_no  new_name  new_poi_type  new_address  new_pin_code  \\\n",
       "0        117        99         1           465        40267         34977   \n",
       "1        979       348         1          2544        40267         34977   \n",
       "2        979       348        46         20529        40267         34977   \n",
       "3        979       348         1         20529        40267         34977   \n",
       "4        979       348     12944            37        40267         34977   \n",
       "\n",
       "   new_brand  \n",
       "0      41849  \n",
       "1      41849  \n",
       "2      41849  \n",
       "3      41849  \n",
       "4      41849  "
      ]
     },
     "execution_count": 51,
     "metadata": {},
     "output_type": "execute_result"
    }
   ],
   "source": [
    "# let's find a key value pair for a category and its frequecy\n",
    "# Then assign this key value pair to a map varible\n",
    "# Then replacing the category with its frequency\n",
    "for col in categorical_feature:\n",
    "    df_frequency_map = df[col].value_counts().to_dict()\n",
    "    df[col] = df[col].map(df_frequency_map)\n",
    "df.head()"
   ]
  },
  {
   "cell_type": "markdown",
   "metadata": {},
   "source": [
    "## Creating a varience Threshold object "
   ]
  },
  {
   "cell_type": "code",
   "execution_count": 52,
   "metadata": {},
   "outputs": [
    {
     "data": {
      "text/plain": [
       "VarianceThreshold(threshold=0)"
      ]
     },
     "execution_count": 52,
     "metadata": {},
     "output_type": "execute_result"
    }
   ],
   "source": [
    "var_thres=VarianceThreshold(threshold=0)\n",
    "var_thres.fit(df)"
   ]
  },
  {
   "cell_type": "markdown",
   "metadata": {},
   "source": [
    "## Finding columns having 0 varience"
   ]
  },
  {
   "cell_type": "code",
   "execution_count": 53,
   "metadata": {},
   "outputs": [
    {
     "name": "stdout",
     "output_type": "stream",
     "text": [
      "source\n",
      "poi_code\n",
      "country\n"
     ]
    }
   ],
   "source": [
    "constant_columns = [column for column in df.columns\n",
    "                    if column not in df.columns[var_thres.get_support()]]\n",
    "for column in constant_columns:\n",
    "    print(column)"
   ]
  },
  {
   "cell_type": "markdown",
   "metadata": {},
   "source": [
    "## Dropping constant columns to reduce unnecessary dimensionality"
   ]
  },
  {
   "cell_type": "code",
   "execution_count": 54,
   "metadata": {},
   "outputs": [
    {
     "data": {
      "text/plain": [
       "(42930, 12)"
      ]
     },
     "execution_count": 54,
     "metadata": {},
     "output_type": "execute_result"
    }
   ],
   "source": [
    "df.drop(constant_columns,axis=1,inplace=True)\n",
    "df.shape"
   ]
  },
  {
   "cell_type": "markdown",
   "metadata": {},
   "source": [
    "## Using some domain knowledge we can conclude that some of the features may not be needed in order to do clustering because features like latitute,longitute,new_address,new_pincode can be derieved from block no feature which we have derieved earlier using h3 library. Apart from that name does not contribute towards clustering so we can drop it and as we only have 2 cities included we may drop state in order reduce complexity"
   ]
  },
  {
   "cell_type": "code",
   "execution_count": 56,
   "metadata": {},
   "outputs": [],
   "source": [
    "columns_to_drop =['lat','long','new_name','new_address','new_pin_code','state']"
   ]
  },
  {
   "cell_type": "code",
   "execution_count": 57,
   "metadata": {},
   "outputs": [
    {
     "data": {
      "text/plain": [
       "(42930, 6)"
      ]
     },
     "execution_count": 57,
     "metadata": {},
     "output_type": "execute_result"
    }
   ],
   "source": [
    "df.drop(columns_to_drop,axis=1,inplace=True)\n",
    "df.shape"
   ]
  },
  {
   "cell_type": "code",
   "execution_count": 214,
   "metadata": {},
   "outputs": [
    {
     "data": {
      "text/html": [
       "<div>\n",
       "<style scoped>\n",
       "    .dataframe tbody tr th:only-of-type {\n",
       "        vertical-align: middle;\n",
       "    }\n",
       "\n",
       "    .dataframe tbody tr th {\n",
       "        vertical-align: top;\n",
       "    }\n",
       "\n",
       "    .dataframe thead th {\n",
       "        text-align: right;\n",
       "    }\n",
       "</style>\n",
       "<table border=\"1\" class=\"dataframe\">\n",
       "  <thead>\n",
       "    <tr style=\"text-align: right;\">\n",
       "      <th></th>\n",
       "      <th>city</th>\n",
       "      <th>H3_index</th>\n",
       "      <th>H3_parent</th>\n",
       "      <th>block_no</th>\n",
       "      <th>new_poi_type</th>\n",
       "      <th>new_brand</th>\n",
       "    </tr>\n",
       "  </thead>\n",
       "  <tbody>\n",
       "    <tr>\n",
       "      <th>0</th>\n",
       "      <td>30417</td>\n",
       "      <td>11</td>\n",
       "      <td>117</td>\n",
       "      <td>99</td>\n",
       "      <td>465</td>\n",
       "      <td>41849</td>\n",
       "    </tr>\n",
       "    <tr>\n",
       "      <th>1</th>\n",
       "      <td>30417</td>\n",
       "      <td>132</td>\n",
       "      <td>979</td>\n",
       "      <td>348</td>\n",
       "      <td>2544</td>\n",
       "      <td>41849</td>\n",
       "    </tr>\n",
       "    <tr>\n",
       "      <th>2</th>\n",
       "      <td>30417</td>\n",
       "      <td>132</td>\n",
       "      <td>979</td>\n",
       "      <td>348</td>\n",
       "      <td>20529</td>\n",
       "      <td>41849</td>\n",
       "    </tr>\n",
       "    <tr>\n",
       "      <th>3</th>\n",
       "      <td>30417</td>\n",
       "      <td>132</td>\n",
       "      <td>979</td>\n",
       "      <td>348</td>\n",
       "      <td>20529</td>\n",
       "      <td>41849</td>\n",
       "    </tr>\n",
       "    <tr>\n",
       "      <th>4</th>\n",
       "      <td>30417</td>\n",
       "      <td>132</td>\n",
       "      <td>979</td>\n",
       "      <td>348</td>\n",
       "      <td>37</td>\n",
       "      <td>41849</td>\n",
       "    </tr>\n",
       "  </tbody>\n",
       "</table>\n",
       "</div>"
      ],
      "text/plain": [
       "    city  H3_index  H3_parent  block_no  new_poi_type  new_brand\n",
       "0  30417        11        117        99           465      41849\n",
       "1  30417       132        979       348          2544      41849\n",
       "2  30417       132        979       348         20529      41849\n",
       "3  30417       132        979       348         20529      41849\n",
       "4  30417       132        979       348            37      41849"
      ]
     },
     "execution_count": 214,
     "metadata": {},
     "output_type": "execute_result"
    }
   ],
   "source": [
    "df.head()"
   ]
  },
  {
   "cell_type": "code",
   "execution_count": 215,
   "metadata": {},
   "outputs": [
    {
     "data": {
      "image/png": "[encoded data removed]",
      "text/plain": [
       "<Figure size 864x720 with 2 Axes>"
      ]
     },
     "metadata": {
      "needs_background": "light"
     },
     "output_type": "display_data"
    }
   ],
   "source": [
    "plt.figure(figsize=(12,10))\n",
    "cor = df.corr()\n",
    "sns.heatmap(cor, annot=True, cmap=plt.cm.CMRmap_r)\n",
    "plt.show()"
   ]
  },
  {
   "cell_type": "markdown",
   "metadata": {},
   "source": [
    "### From this correlation matrix we can only deduce that h3_parent is highly correlated with h3_index and other features are not much correlated with each other"
   ]
  },
  {
   "cell_type": "markdown",
   "metadata": {},
   "source": [
    "## In DBSCAN there are two major hyperparameters:\n",
    "\n",
    "### 1.eps\n",
    "### 2.min_samples\n",
    "### It is difficult arbitrarily to say what values will work the best. Therefore, I will first create a matrix of investigated combinations."
   ]
  },
  {
   "cell_type": "markdown",
   "metadata": {},
   "source": [
    "## Because DBSCAN creates clusters itself based on those two parameters let's check the number of generated clusters."
   ]
  },
  {
   "cell_type": "code",
   "execution_count": 67,
   "metadata": {},
   "outputs": [],
   "source": [
    "clustering = DBSCAN(eps=800, min_samples=800).fit(df)\n",
    "DBSCAN_dataset = df.copy()\n",
    "DBSCAN_dataset.loc[:,'Cluster'] = clustering.labels_ "
   ]
  },
  {
   "cell_type": "code",
   "execution_count": 68,
   "metadata": {},
   "outputs": [
    {
     "data": {
      "text/plain": [
       "array([ 0,  9,  1, -1,  2,  3,  4,  5,  6,  7,  8], dtype=int64)"
      ]
     },
     "execution_count": 68,
     "metadata": {},
     "output_type": "execute_result"
    }
   ],
   "source": [
    "DBSCAN_dataset.Cluster.unique()"
   ]
  },
  {
   "cell_type": "code",
   "execution_count": 70,
   "metadata": {},
   "outputs": [
    {
     "data": {
      "text/html": [
       "<div>\n",
       "<style scoped>\n",
       "    .dataframe tbody tr th:only-of-type {\n",
       "        vertical-align: middle;\n",
       "    }\n",
       "\n",
       "    .dataframe tbody tr th {\n",
       "        vertical-align: top;\n",
       "    }\n",
       "\n",
       "    .dataframe thead th {\n",
       "        text-align: right;\n",
       "    }\n",
       "</style>\n",
       "<table border=\"1\" class=\"dataframe\">\n",
       "  <thead>\n",
       "    <tr style=\"text-align: right;\">\n",
       "      <th></th>\n",
       "      <th>DBSCAN_size</th>\n",
       "    </tr>\n",
       "    <tr>\n",
       "      <th>Cluster</th>\n",
       "      <th></th>\n",
       "    </tr>\n",
       "  </thead>\n",
       "  <tbody>\n",
       "    <tr>\n",
       "      <th>-1</th>\n",
       "      <td>2896</td>\n",
       "    </tr>\n",
       "    <tr>\n",
       "      <th>0</th>\n",
       "      <td>8014</td>\n",
       "    </tr>\n",
       "    <tr>\n",
       "      <th>1</th>\n",
       "      <td>6821</td>\n",
       "    </tr>\n",
       "    <tr>\n",
       "      <th>2</th>\n",
       "      <td>2010</td>\n",
       "    </tr>\n",
       "    <tr>\n",
       "      <th>3</th>\n",
       "      <td>5401</td>\n",
       "    </tr>\n",
       "    <tr>\n",
       "      <th>4</th>\n",
       "      <td>4185</td>\n",
       "    </tr>\n",
       "    <tr>\n",
       "      <th>5</th>\n",
       "      <td>2002</td>\n",
       "    </tr>\n",
       "    <tr>\n",
       "      <th>6</th>\n",
       "      <td>3616</td>\n",
       "    </tr>\n",
       "    <tr>\n",
       "      <th>7</th>\n",
       "      <td>2659</td>\n",
       "    </tr>\n",
       "    <tr>\n",
       "      <th>8</th>\n",
       "      <td>4382</td>\n",
       "    </tr>\n",
       "    <tr>\n",
       "      <th>9</th>\n",
       "      <td>944</td>\n",
       "    </tr>\n",
       "  </tbody>\n",
       "</table>\n",
       "</div>"
      ],
      "text/plain": [
       "         DBSCAN_size\n",
       "Cluster             \n",
       "-1              2896\n",
       " 0              8014\n",
       " 1              6821\n",
       " 2              2010\n",
       " 3              5401\n",
       " 4              4185\n",
       " 5              2002\n",
       " 6              3616\n",
       " 7              2659\n",
       " 8              4382\n",
       " 9               944"
      ]
     },
     "execution_count": 70,
     "metadata": {},
     "output_type": "execute_result"
    }
   ],
   "source": [
    "DBSCAN_clust_sizes = DBSCAN_dataset.groupby('Cluster').size().to_frame()\n",
    "DBSCAN_clust_sizes.columns = [\"DBSCAN_size\"]\n",
    "DBSCAN_clust_sizes"
   ]
  },
  {
   "cell_type": "markdown",
   "metadata": {},
   "source": [
    "### From this table we can conclude that there are 9 clusters formed and -1 cluster represents outliers so 2896 data points represents outliers and distribution of other points in other clusters are given above"
   ]
  },
  {
   "cell_type": "code",
   "execution_count": 79,
   "metadata": {},
   "outputs": [
    {
     "data": {
      "text/html": [
       "<div>\n",
       "<style scoped>\n",
       "    .dataframe tbody tr th:only-of-type {\n",
       "        vertical-align: middle;\n",
       "    }\n",
       "\n",
       "    .dataframe tbody tr th {\n",
       "        vertical-align: top;\n",
       "    }\n",
       "\n",
       "    .dataframe thead th {\n",
       "        text-align: right;\n",
       "    }\n",
       "</style>\n",
       "<table border=\"1\" class=\"dataframe\">\n",
       "  <thead>\n",
       "    <tr style=\"text-align: right;\">\n",
       "      <th></th>\n",
       "      <th>city</th>\n",
       "      <th>H3_index</th>\n",
       "      <th>H3_parent</th>\n",
       "      <th>block_no</th>\n",
       "      <th>new_poi_type</th>\n",
       "      <th>new_brand</th>\n",
       "      <th>Cluster</th>\n",
       "    </tr>\n",
       "  </thead>\n",
       "  <tbody>\n",
       "    <tr>\n",
       "      <th>0</th>\n",
       "      <td>30417</td>\n",
       "      <td>11</td>\n",
       "      <td>117</td>\n",
       "      <td>99</td>\n",
       "      <td>465</td>\n",
       "      <td>41849</td>\n",
       "      <td>0</td>\n",
       "    </tr>\n",
       "    <tr>\n",
       "      <th>1</th>\n",
       "      <td>30417</td>\n",
       "      <td>132</td>\n",
       "      <td>979</td>\n",
       "      <td>348</td>\n",
       "      <td>2544</td>\n",
       "      <td>41849</td>\n",
       "      <td>9</td>\n",
       "    </tr>\n",
       "    <tr>\n",
       "      <th>2</th>\n",
       "      <td>30417</td>\n",
       "      <td>132</td>\n",
       "      <td>979</td>\n",
       "      <td>348</td>\n",
       "      <td>20529</td>\n",
       "      <td>41849</td>\n",
       "      <td>1</td>\n",
       "    </tr>\n",
       "    <tr>\n",
       "      <th>3</th>\n",
       "      <td>30417</td>\n",
       "      <td>132</td>\n",
       "      <td>979</td>\n",
       "      <td>348</td>\n",
       "      <td>20529</td>\n",
       "      <td>41849</td>\n",
       "      <td>1</td>\n",
       "    </tr>\n",
       "    <tr>\n",
       "      <th>4</th>\n",
       "      <td>30417</td>\n",
       "      <td>132</td>\n",
       "      <td>979</td>\n",
       "      <td>348</td>\n",
       "      <td>37</td>\n",
       "      <td>41849</td>\n",
       "      <td>0</td>\n",
       "    </tr>\n",
       "    <tr>\n",
       "      <th>...</th>\n",
       "      <td>...</td>\n",
       "      <td>...</td>\n",
       "      <td>...</td>\n",
       "      <td>...</td>\n",
       "      <td>...</td>\n",
       "      <td>...</td>\n",
       "      <td>...</td>\n",
       "    </tr>\n",
       "    <tr>\n",
       "      <th>42925</th>\n",
       "      <td>30417</td>\n",
       "      <td>627</td>\n",
       "      <td>6061</td>\n",
       "      <td>464</td>\n",
       "      <td>20529</td>\n",
       "      <td>41849</td>\n",
       "      <td>6</td>\n",
       "    </tr>\n",
       "    <tr>\n",
       "      <th>42926</th>\n",
       "      <td>30417</td>\n",
       "      <td>627</td>\n",
       "      <td>6061</td>\n",
       "      <td>464</td>\n",
       "      <td>20529</td>\n",
       "      <td>41849</td>\n",
       "      <td>6</td>\n",
       "    </tr>\n",
       "    <tr>\n",
       "      <th>42927</th>\n",
       "      <td>30417</td>\n",
       "      <td>627</td>\n",
       "      <td>6061</td>\n",
       "      <td>464</td>\n",
       "      <td>20529</td>\n",
       "      <td>41849</td>\n",
       "      <td>6</td>\n",
       "    </tr>\n",
       "    <tr>\n",
       "      <th>42928</th>\n",
       "      <td>30417</td>\n",
       "      <td>5</td>\n",
       "      <td>18</td>\n",
       "      <td>72</td>\n",
       "      <td>20529</td>\n",
       "      <td>41849</td>\n",
       "      <td>1</td>\n",
       "    </tr>\n",
       "    <tr>\n",
       "      <th>42929</th>\n",
       "      <td>30417</td>\n",
       "      <td>93</td>\n",
       "      <td>1572</td>\n",
       "      <td>438</td>\n",
       "      <td>20529</td>\n",
       "      <td>41849</td>\n",
       "      <td>1</td>\n",
       "    </tr>\n",
       "  </tbody>\n",
       "</table>\n",
       "<p>42930 rows × 7 columns</p>\n",
       "</div>"
      ],
      "text/plain": [
       "        city  H3_index  H3_parent  block_no  new_poi_type  new_brand  Cluster\n",
       "0      30417        11        117        99           465      41849        0\n",
       "1      30417       132        979       348          2544      41849        9\n",
       "2      30417       132        979       348         20529      41849        1\n",
       "3      30417       132        979       348         20529      41849        1\n",
       "4      30417       132        979       348            37      41849        0\n",
       "...      ...       ...        ...       ...           ...        ...      ...\n",
       "42925  30417       627       6061       464         20529      41849        6\n",
       "42926  30417       627       6061       464         20529      41849        6\n",
       "42927  30417       627       6061       464         20529      41849        6\n",
       "42928  30417         5         18        72         20529      41849        1\n",
       "42929  30417        93       1572       438         20529      41849        1\n",
       "\n",
       "[42930 rows x 7 columns]"
      ]
     },
     "execution_count": 79,
     "metadata": {},
     "output_type": "execute_result"
    }
   ],
   "source": [
    "DBSCAN_dataset"
   ]
  },
  {
   "cell_type": "markdown",
   "metadata": {},
   "source": [
    "## Creating a new Dataframe for each cluster so as to use it for visualization\n",
    "## Cluster -1 is ignored because it contains outlier points"
   ]
  },
  {
   "cell_type": "code",
   "execution_count": 114,
   "metadata": {},
   "outputs": [],
   "source": [
    "db = DBSCAN_dataset.groupby('Cluster')\n",
    "cluster0=db.get_group(0)\n",
    "cluster1=db.get_group(1)\n",
    "cluster2=db.get_group(2)\n",
    "cluster3=db.get_group(3)\n",
    "cluster4=db.get_group(4)\n",
    "cluster5=db.get_group(5)\n",
    "cluster6=db.get_group(6)\n",
    "cluster7=db.get_group(7)\n",
    "cluster8=db.get_group(8)\n",
    "cluster9=db.get_group(9)"
   ]
  },
  {
   "cell_type": "markdown",
   "metadata": {},
   "source": [
    "## Cluster 0"
   ]
  },
  {
   "cell_type": "code",
   "execution_count": 164,
   "metadata": {},
   "outputs": [
    {
     "name": "stderr",
     "output_type": "stream",
     "text": [
      "C:\\Users\\Dell\\AppData\\Roaming\\Python\\Python37\\site-packages\\seaborn\\_decorators.py:43: FutureWarning: Pass the following variables as keyword args: x, y. From version 0.12, the only valid positional argument will be `data`, and passing other arguments without an explicit keyword will result in an error or misinterpretation.\n",
      "  FutureWarning\n"
     ]
    },
    {
     "data": {
      "text/plain": [
       "<matplotlib.axes._subplots.AxesSubplot at 0x2829a314588>"
      ]
     },
     "execution_count": 164,
     "metadata": {},
     "output_type": "execute_result"
    },
    {
     "data": {
      "image/png": "[encoded data removed]",
      "text/plain": [
       "<Figure size 432x288 with 1 Axes>"
      ]
     },
     "metadata": {
      "needs_background": "light"
     },
     "output_type": "display_data"
    }
   ],
   "source": [
    "sns.scatterplot(cluster0['block_no'],cluster0['new_brand'])"
   ]
  },
  {
   "cell_type": "markdown",
   "metadata": {},
   "source": [
    "### From this plot we can conclude that block/locality of this cluster0 only contains one type of brand which is represented by 42000 in numerical format"
   ]
  },
  {
   "cell_type": "markdown",
   "metadata": {},
   "source": [
    "## Cluster 1"
   ]
  },
  {
   "cell_type": "code",
   "execution_count": 165,
   "metadata": {},
   "outputs": [
    {
     "name": "stderr",
     "output_type": "stream",
     "text": [
      "C:\\Users\\Dell\\AppData\\Roaming\\Python\\Python37\\site-packages\\seaborn\\_decorators.py:43: FutureWarning: Pass the following variables as keyword args: x, y. From version 0.12, the only valid positional argument will be `data`, and passing other arguments without an explicit keyword will result in an error or misinterpretation.\n",
      "  FutureWarning\n"
     ]
    },
    {
     "data": {
      "text/plain": [
       "<matplotlib.axes._subplots.AxesSubplot at 0x2829b59fe88>"
      ]
     },
     "execution_count": 165,
     "metadata": {},
     "output_type": "execute_result"
    },
    {
     "data": {
      "image/png": "[encoded data removed]",
      "text/plain": [
       "<Figure size 432x288 with 1 Axes>"
      ]
     },
     "metadata": {
      "needs_background": "light"
     },
     "output_type": "display_data"
    }
   ],
   "source": [
    "sns.scatterplot(cluster1['block_no'],cluster1['new_poi_type'])"
   ]
  },
  {
   "cell_type": "markdown",
   "metadata": {},
   "source": [
    "### From this plot we can conclude that block/locality of this cluster only contains one type of poi_type which is represented by 20500 in numerical format"
   ]
  },
  {
   "cell_type": "markdown",
   "metadata": {},
   "source": [
    "## Cluster 2"
   ]
  },
  {
   "cell_type": "code",
   "execution_count": 176,
   "metadata": {},
   "outputs": [
    {
     "name": "stderr",
     "output_type": "stream",
     "text": [
      "C:\\Users\\Dell\\AppData\\Roaming\\Python\\Python37\\site-packages\\seaborn\\_decorators.py:43: FutureWarning: Pass the following variables as keyword args: x, y. From version 0.12, the only valid positional argument will be `data`, and passing other arguments without an explicit keyword will result in an error or misinterpretation.\n",
      "  FutureWarning\n"
     ]
    },
    {
     "data": {
      "text/plain": [
       "<matplotlib.axes._subplots.AxesSubplot at 0x2829b944508>"
      ]
     },
     "execution_count": 176,
     "metadata": {},
     "output_type": "execute_result"
    },
    {
     "data": {
      "image/png": "[encoded data removed]",
      "text/plain": [
       "<Figure size 432x288 with 1 Axes>"
      ]
     },
     "metadata": {
      "needs_background": "light"
     },
     "output_type": "display_data"
    }
   ],
   "source": [
    "sns.scatterplot(cluster2['block_no'],cluster2['new_brand'])"
   ]
  },
  {
   "cell_type": "markdown",
   "metadata": {},
   "source": [
    "### From this plot we can conclude that block/locality of this cluster are ranging from 222 to 226 so it is a small region and it only contains one type of brand which is represented by 42000 in numerical format"
   ]
  },
  {
   "cell_type": "markdown",
   "metadata": {},
   "source": [
    "## Cluster 3"
   ]
  },
  {
   "cell_type": "code",
   "execution_count": 178,
   "metadata": {},
   "outputs": [
    {
     "name": "stderr",
     "output_type": "stream",
     "text": [
      "C:\\Users\\Dell\\AppData\\Roaming\\Python\\Python37\\site-packages\\seaborn\\_decorators.py:43: FutureWarning: Pass the following variables as keyword args: x, y. From version 0.12, the only valid positional argument will be `data`, and passing other arguments without an explicit keyword will result in an error or misinterpretation.\n",
      "  FutureWarning\n"
     ]
    },
    {
     "data": {
      "text/plain": [
       "<matplotlib.axes._subplots.AxesSubplot at 0x2829ba77bc8>"
      ]
     },
     "execution_count": 178,
     "metadata": {},
     "output_type": "execute_result"
    },
    {
     "data": {
      "image/png": "[encoded data removed]",
      "text/plain": [
       "<Figure size 432x288 with 1 Axes>"
      ]
     },
     "metadata": {
      "needs_background": "light"
     },
     "output_type": "display_data"
    }
   ],
   "source": [
    "sns.scatterplot(cluster3['block_no'],cluster3['new_brand'])"
   ]
  },
  {
   "cell_type": "markdown",
   "metadata": {},
   "source": [
    "### From this plot we can conclude that block/locality of this cluster only contains one type of brand which is represented by 42000 in numerical format"
   ]
  },
  {
   "cell_type": "markdown",
   "metadata": {},
   "source": [
    "## Cluster 4"
   ]
  },
  {
   "cell_type": "code",
   "execution_count": 186,
   "metadata": {},
   "outputs": [
    {
     "name": "stderr",
     "output_type": "stream",
     "text": [
      "C:\\Users\\Dell\\AppData\\Roaming\\Python\\Python37\\site-packages\\seaborn\\_decorators.py:43: FutureWarning: Pass the following variables as keyword args: x, y. From version 0.12, the only valid positional argument will be `data`, and passing other arguments without an explicit keyword will result in an error or misinterpretation.\n",
      "  FutureWarning\n"
     ]
    },
    {
     "data": {
      "text/plain": [
       "<matplotlib.axes._subplots.AxesSubplot at 0x2829bd375c8>"
      ]
     },
     "execution_count": 186,
     "metadata": {},
     "output_type": "execute_result"
    },
    {
     "data": {
      "image/png": "[encoded data removed]",
      "text/plain": [
       "<Figure size 432x288 with 1 Axes>"
      ]
     },
     "metadata": {
      "needs_background": "light"
     },
     "output_type": "display_data"
    }
   ],
   "source": [
    "sns.scatterplot(cluster4['block_no'],cluster4['new_brand'])"
   ]
  },
  {
   "cell_type": "markdown",
   "metadata": {},
   "source": [
    "### From this plot we can conclude that block/locality of this cluster only contains one type of brand which is represented by 42000 in numerical format"
   ]
  },
  {
   "cell_type": "markdown",
   "metadata": {},
   "source": [
    "## Cluster 5"
   ]
  },
  {
   "cell_type": "code",
   "execution_count": 191,
   "metadata": {},
   "outputs": [
    {
     "name": "stderr",
     "output_type": "stream",
     "text": [
      "C:\\Users\\Dell\\AppData\\Roaming\\Python\\Python37\\site-packages\\seaborn\\_decorators.py:43: FutureWarning: Pass the following variables as keyword args: x, y. From version 0.12, the only valid positional argument will be `data`, and passing other arguments without an explicit keyword will result in an error or misinterpretation.\n",
      "  FutureWarning\n"
     ]
    },
    {
     "data": {
      "text/plain": [
       "<matplotlib.axes._subplots.AxesSubplot at 0x2829beda288>"
      ]
     },
     "execution_count": 191,
     "metadata": {},
     "output_type": "execute_result"
    },
    {
     "data": {
      "image/png": "[encoded data removed]",
      "text/plain": [
       "<Figure size 432x288 with 1 Axes>"
      ]
     },
     "metadata": {
      "needs_background": "light"
     },
     "output_type": "display_data"
    }
   ],
   "source": [
    "sns.scatterplot(cluster5['city'],cluster5['new_brand'])"
   ]
  },
  {
   "cell_type": "markdown",
   "metadata": {},
   "source": [
    "### From this plot we can conclude that block/locality of this cluster only contains one type of brand which is represented by 42000 in numerical format and this cluster belong to only 1 city represented by 30500"
   ]
  },
  {
   "cell_type": "markdown",
   "metadata": {},
   "source": [
    "## Cluster 6"
   ]
  },
  {
   "cell_type": "code",
   "execution_count": 195,
   "metadata": {},
   "outputs": [
    {
     "name": "stderr",
     "output_type": "stream",
     "text": [
      "C:\\Users\\Dell\\AppData\\Roaming\\Python\\Python37\\site-packages\\seaborn\\_decorators.py:43: FutureWarning: Pass the following variables as keyword args: x, y. From version 0.12, the only valid positional argument will be `data`, and passing other arguments without an explicit keyword will result in an error or misinterpretation.\n",
      "  FutureWarning\n"
     ]
    },
    {
     "data": {
      "text/plain": [
       "<matplotlib.axes._subplots.AxesSubplot at 0x2829bff0048>"
      ]
     },
     "execution_count": 195,
     "metadata": {},
     "output_type": "execute_result"
    },
    {
     "data": {
      "image/png": "[encoded data removed]",
      "text/plain": [
       "<Figure size 432x288 with 1 Axes>"
      ]
     },
     "metadata": {
      "needs_background": "light"
     },
     "output_type": "display_data"
    }
   ],
   "source": [
    "sns.scatterplot(cluster6['block_no'],cluster6['new_poi_type'])"
   ]
  },
  {
   "cell_type": "markdown",
   "metadata": {},
   "source": [
    "### From this plot we can conclude that block/locality of this cluster which is of small size ranging from 463 to 469 only contains one type of poi_type which is represented by 20500 in numerical format"
   ]
  },
  {
   "cell_type": "markdown",
   "metadata": {},
   "source": [
    "## Cluster 7"
   ]
  },
  {
   "cell_type": "code",
   "execution_count": 200,
   "metadata": {},
   "outputs": [
    {
     "name": "stderr",
     "output_type": "stream",
     "text": [
      "C:\\Users\\Dell\\AppData\\Roaming\\Python\\Python37\\site-packages\\seaborn\\_decorators.py:43: FutureWarning: Pass the following variables as keyword args: x, y. From version 0.12, the only valid positional argument will be `data`, and passing other arguments without an explicit keyword will result in an error or misinterpretation.\n",
      "  FutureWarning\n"
     ]
    },
    {
     "data": {
      "text/plain": [
       "<matplotlib.axes._subplots.AxesSubplot at 0x2829c1525c8>"
      ]
     },
     "execution_count": 200,
     "metadata": {},
     "output_type": "execute_result"
    },
    {
     "data": {
      "image/png": "[encoded data removed]",
      "text/plain": [
       "<Figure size 432x288 with 1 Axes>"
      ]
     },
     "metadata": {
      "needs_background": "light"
     },
     "output_type": "display_data"
    }
   ],
   "source": [
    "sns.scatterplot(cluster7['new_poi_type'],cluster7['new_brand'])"
   ]
  },
  {
   "cell_type": "markdown",
   "metadata": {},
   "source": [
    "### From this plot we can conclude that this cluster has only 1 poi_type which is represented by 20500 and 1 type of brand represented by 42000"
   ]
  },
  {
   "cell_type": "markdown",
   "metadata": {},
   "source": [
    "## Cluster 8"
   ]
  },
  {
   "cell_type": "code",
   "execution_count": 213,
   "metadata": {},
   "outputs": [
    {
     "name": "stderr",
     "output_type": "stream",
     "text": [
      "C:\\Users\\Dell\\AppData\\Roaming\\Python\\Python37\\site-packages\\seaborn\\_decorators.py:43: FutureWarning: Pass the following variables as keyword args: x, y. From version 0.12, the only valid positional argument will be `data`, and passing other arguments without an explicit keyword will result in an error or misinterpretation.\n",
      "  FutureWarning\n"
     ]
    },
    {
     "data": {
      "text/plain": [
       "<matplotlib.axes._subplots.AxesSubplot at 0x2829c54ce48>"
      ]
     },
     "execution_count": 213,
     "metadata": {},
     "output_type": "execute_result"
    },
    {
     "data": {
      "image/png": "[encoded data removed]",
      "text/plain": [
       "<Figure size 432x288 with 1 Axes>"
      ]
     },
     "metadata": {
      "needs_background": "light"
     },
     "output_type": "display_data"
    }
   ],
   "source": [
    "sns.scatterplot(cluster8['block_no'],cluster8['new_brand'])"
   ]
  },
  {
   "cell_type": "markdown",
   "metadata": {},
   "source": [
    "### From this plot we can conclude that block/locality of this cluster does not contains any brand from range 150 to almost 400. "
   ]
  },
  {
   "cell_type": "markdown",
   "metadata": {},
   "source": [
    "## Cluster 9"
   ]
  },
  {
   "cell_type": "code",
   "execution_count": 212,
   "metadata": {},
   "outputs": [
    {
     "name": "stderr",
     "output_type": "stream",
     "text": [
      "C:\\Users\\Dell\\AppData\\Roaming\\Python\\Python37\\site-packages\\seaborn\\_decorators.py:43: FutureWarning: Pass the following variables as keyword args: x, y. From version 0.12, the only valid positional argument will be `data`, and passing other arguments without an explicit keyword will result in an error or misinterpretation.\n",
      "  FutureWarning\n"
     ]
    },
    {
     "data": {
      "text/plain": [
       "<matplotlib.axes._subplots.AxesSubplot at 0x2829c551108>"
      ]
     },
     "execution_count": 212,
     "metadata": {},
     "output_type": "execute_result"
    },
    {
     "data": {
      "image/png": "[encoded data removed]",
      "text/plain": [
       "<Figure size 432x288 with 1 Axes>"
      ]
     },
     "metadata": {
      "needs_background": "light"
     },
     "output_type": "display_data"
    }
   ],
   "source": [
    "sns.scatterplot(cluster9['block_no'],cluster9['new_brand'])"
   ]
  },
  {
   "cell_type": "markdown",
   "metadata": {},
   "source": [
    "### From this plot we can conclude that block/locality of this cluster does not contains any brand from range 150 to around 200 and 210 to 350. And locality that do contain brand has only 1 type of brand represented by 42000 "
   ]
  },
  {
   "cell_type": "code",
   "execution_count": null,
   "metadata": {},
   "outputs": [],
   "source": []
  }
 ],
 "metadata": {
  "kernelspec": {
   "display_name": "Python 3",
   "language": "python",
   "name": "python3"
  },
  "language_info": {
   "codemirror_mode": {
    "name": "ipython",
    "version": 3
   },
   "file_extension": ".py",
   "mimetype": "text/x-python",
   "name": "python",
   "nbconvert_exporter": "python",
   "pygments_lexer": "ipython3",
   "version": "3.7.4"
  }
 },
 "nbformat": 4,
 "nbformat_minor": 2
}
